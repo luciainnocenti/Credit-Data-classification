{
 "cells": [
  {
   "cell_type": "markdown",
   "metadata": {
    "colab_type": "text",
    "id": "view-in-github"
   },
   "source": [
    "<a href=\"https://colab.research.google.com/github/luciainnocenti/German-Credit-Data/blob/master/MML_Tesina.ipynb\" target=\"_parent\"><img src=\"https://colab.research.google.com/assets/colab-badge.svg\" alt=\"Open In Colab\"/></a>"
   ]
  },
  {
   "cell_type": "markdown",
   "metadata": {
    "colab_type": "text",
    "id": "LC0ITnji5nsq"
   },
   "source": [
    "# Introduction"
   ]
  },
  {
   "cell_type": "markdown",
   "metadata": {
    "colab_type": "text",
    "id": "vsUuOSvQ5tog"
   },
   "source": [
    "This project is about the analysis of credit risks of German Credit Data.\n",
    "The dataset is [Statlog (German Credit Data) Data Set](https://archive.ics.uci.edu/ml/datasets/Statlog+%28German+Credit+Data%29).\n",
    "It is composed by 1000 instances, each one defined by twenty attributes (both numerical and categorical).\n",
    "\n",
    "The data are collected in 1994 and the last attribute referred to how the client has been categorized: good or bad credit risk.\n",
    "\n"
   ]
  },
  {
   "cell_type": "markdown",
   "metadata": {
    "colab_type": "text",
    "id": "IB-xkesV688M"
   },
   "source": [
    "# Imports"
   ]
  },
  {
   "cell_type": "markdown",
   "metadata": {
    "colab_type": "text",
    "id": "QkBvpAF-6_Cn"
   },
   "source": [
    "\n",
    "\n",
    "1.   **Files**: needed to upload the file directly from an external source\n",
    "2.   **Pandas**: needed for manage data as matrices or vectors; provide many usefull function and especially the structure of Dataframe\n",
    "3.  **Numpy**: needed for manage data as matrices or vectors; \n",
    "4.  **Pyplot** and **Seaborn**: useful for visualizations\n"
   ]
  },
  {
   "cell_type": "code",
   "execution_count": 1,
   "metadata": {
    "colab": {},
    "colab_type": "code",
    "id": "8PJfobmmyYV3"
   },
   "outputs": [],
   "source": [
    "import warnings\n",
    "warnings.filterwarnings(action = 'ignore')\n",
    "\n",
    "# from google.colab import files\n",
    "import pandas as pd\n",
    "import numpy as np\n",
    "import io\n",
    "import matplotlib.pyplot as plt\n",
    "import seaborn as sns\n",
    "\n",
    "#Import classification methods and support methods\n",
    "from sklearn.pipeline import Pipeline\n",
    "from sklearn.decomposition import PCA\n",
    "from sklearn.model_selection import train_test_split\n",
    "from imblearn.over_sampling import ADASYN, SMOTE\n",
    "from sklearn.model_selection import GridSearchCV\n",
    "from sklearn.feature_selection import SelectKBest, f_classif\n",
    "from sklearn.preprocessing import StandardScaler\n",
    "from sklearn.neighbors import KNeighborsClassifier\n",
    "from sklearn import svm\n",
    "from sklearn.model_selection import KFold\n",
    "from sklearn.linear_model import LogisticRegression\n",
    "from sklearn.tree import DecisionTreeClassifier\n",
    "from sklearn import tree\n",
    "import xgboost as xgb\n",
    "\n",
    "#Import Metrics\n",
    "from sklearn.metrics import accuracy_score\n",
    "from sklearn.metrics import f1_score\n",
    "from sklearn.metrics import precision_score\n",
    "from sklearn.metrics import recall_score\n",
    "from sklearn.metrics import classification_report\n",
    "\n",
    "SEED = 42"
   ]
  },
  {
   "cell_type": "code",
   "execution_count": 3,
   "metadata": {
    "colab": {
     "base_uri": "https://localhost:8080/",
     "height": 107
    },
    "colab_type": "code",
    "id": "F3eiXaCSzgBi",
    "outputId": "d94064bf-f77e-405b-d4c0-501e8ea94938"
   },
   "outputs": [
    {
     "data": {
      "text/html": [
       "<div>\n",
       "<style scoped>\n",
       "    .dataframe tbody tr th:only-of-type {\n",
       "        vertical-align: middle;\n",
       "    }\n",
       "\n",
       "    .dataframe tbody tr th {\n",
       "        vertical-align: top;\n",
       "    }\n",
       "\n",
       "    .dataframe thead th {\n",
       "        text-align: right;\n",
       "    }\n",
       "</style>\n",
       "<table border=\"1\" class=\"dataframe\">\n",
       "  <thead>\n",
       "    <tr style=\"text-align: right;\">\n",
       "      <th></th>\n",
       "      <th>0</th>\n",
       "      <th>1</th>\n",
       "      <th>2</th>\n",
       "      <th>3</th>\n",
       "      <th>4</th>\n",
       "      <th>5</th>\n",
       "      <th>6</th>\n",
       "      <th>7</th>\n",
       "      <th>8</th>\n",
       "      <th>9</th>\n",
       "      <th>...</th>\n",
       "      <th>11</th>\n",
       "      <th>12</th>\n",
       "      <th>13</th>\n",
       "      <th>14</th>\n",
       "      <th>15</th>\n",
       "      <th>16</th>\n",
       "      <th>17</th>\n",
       "      <th>18</th>\n",
       "      <th>19</th>\n",
       "      <th>20</th>\n",
       "    </tr>\n",
       "  </thead>\n",
       "  <tbody>\n",
       "    <tr>\n",
       "      <th>0</th>\n",
       "      <td>A11</td>\n",
       "      <td>6</td>\n",
       "      <td>A34</td>\n",
       "      <td>A43</td>\n",
       "      <td>1169</td>\n",
       "      <td>A65</td>\n",
       "      <td>A75</td>\n",
       "      <td>4</td>\n",
       "      <td>A93</td>\n",
       "      <td>A101</td>\n",
       "      <td>...</td>\n",
       "      <td>A121</td>\n",
       "      <td>67</td>\n",
       "      <td>A143</td>\n",
       "      <td>A152</td>\n",
       "      <td>2</td>\n",
       "      <td>A173</td>\n",
       "      <td>1</td>\n",
       "      <td>A192</td>\n",
       "      <td>A201</td>\n",
       "      <td>1</td>\n",
       "    </tr>\n",
       "    <tr>\n",
       "      <th>1</th>\n",
       "      <td>A12</td>\n",
       "      <td>48</td>\n",
       "      <td>A32</td>\n",
       "      <td>A43</td>\n",
       "      <td>5951</td>\n",
       "      <td>A61</td>\n",
       "      <td>A73</td>\n",
       "      <td>2</td>\n",
       "      <td>A92</td>\n",
       "      <td>A101</td>\n",
       "      <td>...</td>\n",
       "      <td>A121</td>\n",
       "      <td>22</td>\n",
       "      <td>A143</td>\n",
       "      <td>A152</td>\n",
       "      <td>1</td>\n",
       "      <td>A173</td>\n",
       "      <td>1</td>\n",
       "      <td>A191</td>\n",
       "      <td>A201</td>\n",
       "      <td>2</td>\n",
       "    </tr>\n",
       "  </tbody>\n",
       "</table>\n",
       "<p>2 rows × 21 columns</p>\n",
       "</div>"
      ],
      "text/plain": [
       "    0   1    2    3     4    5    6   7    8     9   ...    11  12    13  \\\n",
       "0  A11   6  A34  A43  1169  A65  A75   4  A93  A101  ...  A121  67  A143   \n",
       "1  A12  48  A32  A43  5951  A61  A73   2  A92  A101  ...  A121  22  A143   \n",
       "\n",
       "     14 15    16 17    18    19 20  \n",
       "0  A152  2  A173  1  A192  A201  1  \n",
       "1  A152  1  A173  1  A191  A201  2  \n",
       "\n",
       "[2 rows x 21 columns]"
      ]
     },
     "execution_count": 3,
     "metadata": {},
     "output_type": "execute_result"
    }
   ],
   "source": [
    "df = pd.read_csv('data.csv', sep=';', header=None)\n",
    "df.head(2)"
   ]
  },
  {
   "cell_type": "markdown",
   "metadata": {
    "colab_type": "text",
    "id": "7eIqFFJT7fGm"
   },
   "source": [
    "# Data Exploration"
   ]
  },
  {
   "cell_type": "markdown",
   "metadata": {
    "colab_type": "text",
    "id": "IeswhxbV4rv6"
   },
   "source": [
    "In order to better define how the dataset is done, let's see some characteristics of features and data.\n",
    "First, I have to rename all the columns because the original dataset haven't the header. So, starting from the description available in the original page, the resulting dataset is:"
   ]
  },
  {
   "cell_type": "code",
   "execution_count": 4,
   "metadata": {
    "colab": {
     "base_uri": "https://localhost:8080/",
     "height": 127
    },
    "colab_type": "code",
    "id": "NFyBGGF-321U",
    "outputId": "bff1d7e4-75c9-47fa-8697-4b1b0816cf03"
   },
   "outputs": [
    {
     "data": {
      "text/html": [
       "<div>\n",
       "<style scoped>\n",
       "    .dataframe tbody tr th:only-of-type {\n",
       "        vertical-align: middle;\n",
       "    }\n",
       "\n",
       "    .dataframe tbody tr th {\n",
       "        vertical-align: top;\n",
       "    }\n",
       "\n",
       "    .dataframe thead th {\n",
       "        text-align: right;\n",
       "    }\n",
       "</style>\n",
       "<table border=\"1\" class=\"dataframe\">\n",
       "  <thead>\n",
       "    <tr style=\"text-align: right;\">\n",
       "      <th></th>\n",
       "      <th>checkingAccount</th>\n",
       "      <th>duration</th>\n",
       "      <th>creditHistory</th>\n",
       "      <th>purpose</th>\n",
       "      <th>creditAmount</th>\n",
       "      <th>savingsAcc</th>\n",
       "      <th>employmentTime</th>\n",
       "      <th>installmentPercIncome</th>\n",
       "      <th>status</th>\n",
       "      <th>otherFin</th>\n",
       "      <th>...</th>\n",
       "      <th>property</th>\n",
       "      <th>age</th>\n",
       "      <th>otherInstallPlans</th>\n",
       "      <th>housing</th>\n",
       "      <th>numCredits</th>\n",
       "      <th>job</th>\n",
       "      <th>numOfMant</th>\n",
       "      <th>phone</th>\n",
       "      <th>foreignWorker</th>\n",
       "      <th>risk</th>\n",
       "    </tr>\n",
       "  </thead>\n",
       "  <tbody>\n",
       "    <tr>\n",
       "      <th>0</th>\n",
       "      <td>A11</td>\n",
       "      <td>6</td>\n",
       "      <td>A34</td>\n",
       "      <td>A43</td>\n",
       "      <td>1169</td>\n",
       "      <td>A65</td>\n",
       "      <td>A75</td>\n",
       "      <td>4</td>\n",
       "      <td>A93</td>\n",
       "      <td>A101</td>\n",
       "      <td>...</td>\n",
       "      <td>A121</td>\n",
       "      <td>67</td>\n",
       "      <td>A143</td>\n",
       "      <td>A152</td>\n",
       "      <td>2</td>\n",
       "      <td>A173</td>\n",
       "      <td>1</td>\n",
       "      <td>A192</td>\n",
       "      <td>A201</td>\n",
       "      <td>0</td>\n",
       "    </tr>\n",
       "    <tr>\n",
       "      <th>1</th>\n",
       "      <td>A12</td>\n",
       "      <td>48</td>\n",
       "      <td>A32</td>\n",
       "      <td>A43</td>\n",
       "      <td>5951</td>\n",
       "      <td>A61</td>\n",
       "      <td>A73</td>\n",
       "      <td>2</td>\n",
       "      <td>A92</td>\n",
       "      <td>A101</td>\n",
       "      <td>...</td>\n",
       "      <td>A121</td>\n",
       "      <td>22</td>\n",
       "      <td>A143</td>\n",
       "      <td>A152</td>\n",
       "      <td>1</td>\n",
       "      <td>A173</td>\n",
       "      <td>1</td>\n",
       "      <td>A191</td>\n",
       "      <td>A201</td>\n",
       "      <td>1</td>\n",
       "    </tr>\n",
       "  </tbody>\n",
       "</table>\n",
       "<p>2 rows × 21 columns</p>\n",
       "</div>"
      ],
      "text/plain": [
       "  checkingAccount  duration creditHistory purpose  creditAmount savingsAcc  \\\n",
       "0             A11         6           A34     A43          1169        A65   \n",
       "1             A12        48           A32     A43          5951        A61   \n",
       "\n",
       "  employmentTime  installmentPercIncome status otherFin  ...  property age  \\\n",
       "0            A75                      4    A93     A101  ...      A121  67   \n",
       "1            A73                      2    A92     A101  ...      A121  22   \n",
       "\n",
       "   otherInstallPlans housing numCredits   job numOfMant  phone foreignWorker  \\\n",
       "0               A143    A152          2  A173         1   A192          A201   \n",
       "1               A143    A152          1  A173         1   A191          A201   \n",
       "\n",
       "  risk  \n",
       "0    0  \n",
       "1    1  \n",
       "\n",
       "[2 rows x 21 columns]"
      ]
     },
     "execution_count": 4,
     "metadata": {},
     "output_type": "execute_result"
    }
   ],
   "source": [
    "df.columns = ['checkingAccount','duration','creditHistory', 'purpose', 'creditAmount','savingsAcc','employmentTime', 'installmentPercIncome', \n",
    "              'status', 'otherFin', 'timeResidence', 'property' ,'age', 'otherInstallPlans' ,'housing' ,'numCredits', 'job', 'numOfMant', 'phone', 'foreignWorker', 'risk']\n",
    "df['risk'] = df['risk'] - 1 #(0 = Good, 1 = Bad)\n",
    "df.head(2)"
   ]
  },
  {
   "cell_type": "markdown",
   "metadata": {
    "colab_type": "text",
    "id": "y7tdQ37S_M2N"
   },
   "source": [
    "The description says that the dataset does not allow for null values. Let's check it:"
   ]
  },
  {
   "cell_type": "code",
   "execution_count": 5,
   "metadata": {
    "colab": {
     "base_uri": "https://localhost:8080/",
     "height": 34
    },
    "colab_type": "code",
    "id": "9G9HQaZa_YJk",
    "outputId": "9bbcc347-bf18-4a58-fd56-7be1e5159ce8"
   },
   "outputs": [
    {
     "data": {
      "text/plain": [
       "False"
      ]
     },
     "execution_count": 5,
     "metadata": {},
     "output_type": "execute_result"
    }
   ],
   "source": [
    "df.isnull().values.any()"
   ]
  },
  {
   "cell_type": "code",
   "execution_count": 6,
   "metadata": {
    "colab": {},
    "colab_type": "code",
    "id": "ZfjRjR9f0hgn"
   },
   "outputs": [],
   "source": [
    "df['risk'] = df['risk'].astype('category')"
   ]
  },
  {
   "cell_type": "markdown",
   "metadata": {
    "colab_type": "text",
    "id": "yfJXeVgVGFYy"
   },
   "source": [
    "## Numerical Data"
   ]
  },
  {
   "cell_type": "markdown",
   "metadata": {
    "colab_type": "text",
    "id": "oK1_43XaA0b1"
   },
   "source": [
    "The dataset is composed both from numerical and categorical attributes.\n",
    "\n",
    "It is possbile to analize numerical ones by using the method describe, which print the following stats:\n",
    "\n",
    "\n",
    "*   **Count** the total number of instances\n",
    "*   **Mean** of all the instances\n",
    "*   **Std** of all the instances\n",
    "*   **Min** return the minimum value \n",
    "*   **25%, 50%, 75%** are percentile values for each attribute\n",
    "*   **Max** return the maximum value\n",
    "\n"
   ]
  },
  {
   "cell_type": "code",
   "execution_count": 7,
   "metadata": {
    "colab": {
     "base_uri": "https://localhost:8080/",
     "height": 287
    },
    "colab_type": "code",
    "id": "6Ux0RSq-fn1J",
    "outputId": "e5f57f49-860f-4cb3-eb18-ef2e4c330da4"
   },
   "outputs": [
    {
     "data": {
      "text/html": [
       "<div>\n",
       "<style scoped>\n",
       "    .dataframe tbody tr th:only-of-type {\n",
       "        vertical-align: middle;\n",
       "    }\n",
       "\n",
       "    .dataframe tbody tr th {\n",
       "        vertical-align: top;\n",
       "    }\n",
       "\n",
       "    .dataframe thead th {\n",
       "        text-align: right;\n",
       "    }\n",
       "</style>\n",
       "<table border=\"1\" class=\"dataframe\">\n",
       "  <thead>\n",
       "    <tr style=\"text-align: right;\">\n",
       "      <th></th>\n",
       "      <th>duration</th>\n",
       "      <th>creditAmount</th>\n",
       "      <th>installmentPercIncome</th>\n",
       "      <th>timeResidence</th>\n",
       "      <th>age</th>\n",
       "      <th>numCredits</th>\n",
       "      <th>numOfMant</th>\n",
       "    </tr>\n",
       "  </thead>\n",
       "  <tbody>\n",
       "    <tr>\n",
       "      <th>count</th>\n",
       "      <td>1000.000000</td>\n",
       "      <td>1000.000000</td>\n",
       "      <td>1000.000000</td>\n",
       "      <td>1000.000000</td>\n",
       "      <td>1000.000000</td>\n",
       "      <td>1000.000000</td>\n",
       "      <td>1000.000000</td>\n",
       "    </tr>\n",
       "    <tr>\n",
       "      <th>mean</th>\n",
       "      <td>20.903000</td>\n",
       "      <td>3271.258000</td>\n",
       "      <td>2.973000</td>\n",
       "      <td>2.845000</td>\n",
       "      <td>35.546000</td>\n",
       "      <td>1.407000</td>\n",
       "      <td>1.155000</td>\n",
       "    </tr>\n",
       "    <tr>\n",
       "      <th>std</th>\n",
       "      <td>12.058814</td>\n",
       "      <td>2822.736876</td>\n",
       "      <td>1.118715</td>\n",
       "      <td>1.103718</td>\n",
       "      <td>11.375469</td>\n",
       "      <td>0.577654</td>\n",
       "      <td>0.362086</td>\n",
       "    </tr>\n",
       "    <tr>\n",
       "      <th>min</th>\n",
       "      <td>4.000000</td>\n",
       "      <td>250.000000</td>\n",
       "      <td>1.000000</td>\n",
       "      <td>1.000000</td>\n",
       "      <td>19.000000</td>\n",
       "      <td>1.000000</td>\n",
       "      <td>1.000000</td>\n",
       "    </tr>\n",
       "    <tr>\n",
       "      <th>25%</th>\n",
       "      <td>12.000000</td>\n",
       "      <td>1365.500000</td>\n",
       "      <td>2.000000</td>\n",
       "      <td>2.000000</td>\n",
       "      <td>27.000000</td>\n",
       "      <td>1.000000</td>\n",
       "      <td>1.000000</td>\n",
       "    </tr>\n",
       "    <tr>\n",
       "      <th>50%</th>\n",
       "      <td>18.000000</td>\n",
       "      <td>2319.500000</td>\n",
       "      <td>3.000000</td>\n",
       "      <td>3.000000</td>\n",
       "      <td>33.000000</td>\n",
       "      <td>1.000000</td>\n",
       "      <td>1.000000</td>\n",
       "    </tr>\n",
       "    <tr>\n",
       "      <th>75%</th>\n",
       "      <td>24.000000</td>\n",
       "      <td>3972.250000</td>\n",
       "      <td>4.000000</td>\n",
       "      <td>4.000000</td>\n",
       "      <td>42.000000</td>\n",
       "      <td>2.000000</td>\n",
       "      <td>1.000000</td>\n",
       "    </tr>\n",
       "    <tr>\n",
       "      <th>max</th>\n",
       "      <td>72.000000</td>\n",
       "      <td>18424.000000</td>\n",
       "      <td>4.000000</td>\n",
       "      <td>4.000000</td>\n",
       "      <td>75.000000</td>\n",
       "      <td>4.000000</td>\n",
       "      <td>2.000000</td>\n",
       "    </tr>\n",
       "  </tbody>\n",
       "</table>\n",
       "</div>"
      ],
      "text/plain": [
       "          duration  creditAmount  installmentPercIncome  timeResidence  \\\n",
       "count  1000.000000   1000.000000            1000.000000    1000.000000   \n",
       "mean     20.903000   3271.258000               2.973000       2.845000   \n",
       "std      12.058814   2822.736876               1.118715       1.103718   \n",
       "min       4.000000    250.000000               1.000000       1.000000   \n",
       "25%      12.000000   1365.500000               2.000000       2.000000   \n",
       "50%      18.000000   2319.500000               3.000000       3.000000   \n",
       "75%      24.000000   3972.250000               4.000000       4.000000   \n",
       "max      72.000000  18424.000000               4.000000       4.000000   \n",
       "\n",
       "               age   numCredits    numOfMant  \n",
       "count  1000.000000  1000.000000  1000.000000  \n",
       "mean     35.546000     1.407000     1.155000  \n",
       "std      11.375469     0.577654     0.362086  \n",
       "min      19.000000     1.000000     1.000000  \n",
       "25%      27.000000     1.000000     1.000000  \n",
       "50%      33.000000     1.000000     1.000000  \n",
       "75%      42.000000     2.000000     1.000000  \n",
       "max      75.000000     4.000000     2.000000  "
      ]
     },
     "execution_count": 7,
     "metadata": {},
     "output_type": "execute_result"
    }
   ],
   "source": [
    "df.describe()"
   ]
  },
  {
   "cell_type": "markdown",
   "metadata": {
    "colab_type": "text",
    "id": "IMkMZ68NNj8B"
   },
   "source": [
    "Let's make some observations about other features:\n",
    "*   *Duration* hasn't strange values, data are well distributed into the interval of values.\n",
    "*   *CreditAmount* has a large standard deviation, a possible approach in order to identify possible wrong data is to visualize it by grouping for Purpose.\n",
    "*   *Age* has as minimum value 19 years and as maximum value 75 year, so it perfectly fit expectations.\n",
    "\n",
    "\n"
   ]
  },
  {
   "cell_type": "code",
   "execution_count": 8,
   "metadata": {
    "colab": {
     "base_uri": "https://localhost:8080/",
     "height": 846
    },
    "colab_type": "code",
    "id": "_mvNG7VRBPqA",
    "outputId": "19109e55-6f9f-4c86-8707-075088c43ffb"
   },
   "outputs": [
    {
     "data": {
      "text/plain": [
       "Text(0.5, 1.0, 'Correlation Heatmap')"
      ]
     },
     "execution_count": 8,
     "metadata": {},
     "output_type": "execute_result"
    },
    {
     "data": {
      "image/png": "[encoded data removed]",
      "text/plain": [
       "<Figure size 864x864 with 2 Axes>"
      ]
     },
     "metadata": {
      "needs_background": "light"
     },
     "output_type": "display_data"
    }
   ],
   "source": [
    "numerical = df.select_dtypes(include=['int64'])\n",
    "numerical = (numerical-numerical.mean())/numerical.std()\n",
    "corr = numerical.corr()\n",
    "plt.figure(figsize = (12,12))\n",
    "sns.heatmap(corr, annot = True, \n",
    "            vmin = -1, vmax = 1, center = 0,\n",
    "            cmap = sns.diverging_palette(20, 220, n = 200))\n",
    "plt.title('Correlation Heatmap', fontsize = 24)"
   ]
  },
  {
   "cell_type": "markdown",
   "metadata": {
    "colab_type": "text",
    "id": "ZWBJ_JziC3dD"
   },
   "source": [
    "The correlation map shows that, as expected, the highest correlation is the one between duration and creditAmount; there are not other important correlations"
   ]
  },
  {
   "cell_type": "markdown",
   "metadata": {
    "colab_type": "text",
    "id": "ghVC2AcmGMdm"
   },
   "source": [
    "## Categorical Data"
   ]
  },
  {
   "cell_type": "markdown",
   "metadata": {
    "colab_type": "text",
    "id": "aTYbSeaiCW8D"
   },
   "source": [
    "To analize categorical data it is possible to use the plot of frequencies:"
   ]
  },
  {
   "cell_type": "code",
   "execution_count": 9,
   "metadata": {
    "colab": {
     "base_uri": "https://localhost:8080/",
     "height": 295
    },
    "colab_type": "code",
    "id": "zj-Gzix9-i6w",
    "outputId": "9dc68545-e6c9-4d91-ad98-52f13473cfd1"
   },
   "outputs": [
    {
     "data": {
      "image/png": "[encoded data removed]",
      "text/plain": [
       "<Figure size 432x288 with 1 Axes>"
      ]
     },
     "metadata": {
      "needs_background": "light"
     },
     "output_type": "display_data"
    }
   ],
   "source": [
    "sns.countplot('creditHistory', data=df)\n",
    "plt.title('Credit History', fontsize=14)\n",
    "plt.show()"
   ]
  },
  {
   "cell_type": "markdown",
   "metadata": {
    "colab_type": "text",
    "id": "B_Xl-oOPS71D"
   },
   "source": [
    "Credit history\n",
    "\n",
    "*    A30 : no credits taken/ all credits paid back duly\n",
    "*    A31 : all credits at this bank paid back duly\n",
    "*    A32 : existing credits paid back duly till now\n",
    "*    A33 : delay in paying off in the past\n",
    "*    A34 : critical account/ other credits existing (not at this bank)"
   ]
  },
  {
   "cell_type": "code",
   "execution_count": 10,
   "metadata": {
    "colab": {
     "base_uri": "https://localhost:8080/",
     "height": 295
    },
    "colab_type": "code",
    "id": "4UAyD3gTDiNY",
    "outputId": "4e44abba-b43d-4d4a-b341-74db53ae4ef5"
   },
   "outputs": [
    {
     "data": {
      "image/png": "[encoded data removed]",
      "text/plain": [
       "<Figure size 432x288 with 1 Axes>"
      ]
     },
     "metadata": {
      "needs_background": "light"
     },
     "output_type": "display_data"
    }
   ],
   "source": [
    "sns.countplot('checkingAccount', data=df)\n",
    "plt.title('Checking account', fontsize=14)\n",
    "plt.show()"
   ]
  },
  {
   "cell_type": "markdown",
   "metadata": {
    "colab_type": "text",
    "id": "j4dAiKSvTMt3"
   },
   "source": [
    "Status of existing checking account\n",
    "* A11 : ... < 0 DM\n",
    "* A12 : 0 <= ... < 200 DM\n",
    "* A13 : ... >= 200 DM / salary assignments for at least 1 year\n",
    "* A14 : no checking account"
   ]
  },
  {
   "cell_type": "code",
   "execution_count": 11,
   "metadata": {
    "colab": {
     "base_uri": "https://localhost:8080/",
     "height": 295
    },
    "colab_type": "code",
    "id": "bnaLiRB_DO3E",
    "outputId": "273b63c0-4f78-4f40-94ce-bbad26cbfdbe"
   },
   "outputs": [
    {
     "data": {
      "image/png": "[encoded data removed]",
      "text/plain": [
       "<Figure size 432x288 with 1 Axes>"
      ]
     },
     "metadata": {
      "needs_background": "light"
     },
     "output_type": "display_data"
    }
   ],
   "source": [
    "sns.countplot('purpose', data=df)\n",
    "plt.title('Purpose', fontsize=14)\n",
    "plt.show()"
   ]
  },
  {
   "cell_type": "markdown",
   "metadata": {
    "colab_type": "text",
    "id": "d4WpzHMcTTTZ"
   },
   "source": [
    "Purpose\n",
    "* A40 : car (new)\n",
    "* A41 : car (used)\n",
    "* A42 : furniture/equipment\n",
    "* A43 : radio/television\n",
    "* A44 : domestic appliances\n",
    "* A45 : repairs\n",
    "* A46 : education\n",
    "* A47 : (vacation - does not exist?)\n",
    "* A48 : retraining\n",
    "* A49 : business\n",
    "* A410 : others"
   ]
  },
  {
   "cell_type": "code",
   "execution_count": 12,
   "metadata": {
    "colab": {
     "base_uri": "https://localhost:8080/",
     "height": 295
    },
    "colab_type": "code",
    "id": "3O3_NgPnDpT3",
    "outputId": "3c4a6003-9c1e-4132-d0c1-0f393cf1d465"
   },
   "outputs": [
    {
     "data": {
      "image/png": "[encoded data removed]",
      "text/plain": [
       "<Figure size 432x288 with 1 Axes>"
      ]
     },
     "metadata": {
      "needs_background": "light"
     },
     "output_type": "display_data"
    }
   ],
   "source": [
    "sns.countplot('savingsAcc', data=df)\n",
    "plt.title('Savings Accounts', fontsize=14)\n",
    "plt.show()"
   ]
  },
  {
   "cell_type": "markdown",
   "metadata": {
    "colab_type": "text",
    "id": "P5evrDMpTZ0V"
   },
   "source": [
    "Savings account/bonds\n",
    "* A61 : ... < 100 DM\n",
    "* A62 : 100 <= ... < 500 DM\n",
    "* A63 : 500 <= ... < 1000 DM\n",
    "* A64 : .. >= 1000 DM\n",
    "* A65 : unknown/ no savings account\n"
   ]
  },
  {
   "cell_type": "code",
   "execution_count": 13,
   "metadata": {
    "colab": {
     "base_uri": "https://localhost:8080/",
     "height": 295
    },
    "colab_type": "code",
    "id": "gJntEPwTDuzu",
    "outputId": "4fe729ad-196c-4e5e-81c6-a37c423ba07b"
   },
   "outputs": [
    {
     "data": {
      "image/png": "[encoded data removed]",
      "text/plain": [
       "<Figure size 432x288 with 1 Axes>"
      ]
     },
     "metadata": {
      "needs_background": "light"
     },
     "output_type": "display_data"
    }
   ],
   "source": [
    "sns.countplot('employmentTime', data=df)\n",
    "plt.title('Present employment since', fontsize=14)\n",
    "plt.show()"
   ]
  },
  {
   "cell_type": "markdown",
   "metadata": {
    "colab_type": "text",
    "id": "RzZjzZK4TfHS"
   },
   "source": [
    "Present employment since\n",
    "* A71 : unemployed\n",
    "* A72 : ... < 1 year\n",
    "* A73 : 1 <= ... < 4 years\n",
    "* A74 : 4 <= ... < 7 years\n",
    "* A75 : .. >= 7 years"
   ]
  },
  {
   "cell_type": "code",
   "execution_count": 14,
   "metadata": {
    "colab": {
     "base_uri": "https://localhost:8080/",
     "height": 295
    },
    "colab_type": "code",
    "id": "UMFyZiIiD4U6",
    "outputId": "25b63c18-9f18-46d0-938e-1cc55e4fc5dc"
   },
   "outputs": [
    {
     "data": {
      "image/png": "[encoded data removed]",
      "text/plain": [
       "<Figure size 432x288 with 1 Axes>"
      ]
     },
     "metadata": {
      "needs_background": "light"
     },
     "output_type": "display_data"
    }
   ],
   "source": [
    "sns.countplot('status', data=df)\n",
    "plt.title('Personal status and sex', fontsize=14)\n",
    "plt.show()"
   ]
  },
  {
   "cell_type": "markdown",
   "metadata": {
    "colab_type": "text",
    "id": "eUrq0YwnTl_y"
   },
   "source": [
    "Personal status and sex\n",
    "* A91 : male : divorced/separated\n",
    "* A92 : female : divorced/separated/married\n",
    "* A93 : male : single\n",
    "* A94 : male : married/widowed\n",
    "* A95 : female : single"
   ]
  },
  {
   "cell_type": "code",
   "execution_count": 15,
   "metadata": {
    "colab": {
     "base_uri": "https://localhost:8080/",
     "height": 295
    },
    "colab_type": "code",
    "id": "3zFw7C2QD_io",
    "outputId": "6c60ba55-96d1-47cd-9eeb-c80582753d5a"
   },
   "outputs": [
    {
     "data": {
      "image/png": "[encoded data removed]",
      "text/plain": [
       "<Figure size 432x288 with 1 Axes>"
      ]
     },
     "metadata": {
      "needs_background": "light"
     },
     "output_type": "display_data"
    }
   ],
   "source": [
    "sns.countplot('otherFin', data=df)\n",
    "plt.title('Other debtors / guarantors', fontsize=14)\n",
    "plt.show()"
   ]
  },
  {
   "cell_type": "markdown",
   "metadata": {
    "colab_type": "text",
    "id": "zKCmg85NTt1v"
   },
   "source": [
    "Other debtors / guarantors\n",
    "* A101 : none\n",
    "* A102 : co-applicant\n",
    "* A103 : guarantor \n"
   ]
  },
  {
   "cell_type": "code",
   "execution_count": 16,
   "metadata": {
    "colab": {
     "base_uri": "https://localhost:8080/",
     "height": 295
    },
    "colab_type": "code",
    "id": "sOFACL2NEGaC",
    "outputId": "42c68b7e-869a-4549-8c8e-ee83b512e7aa"
   },
   "outputs": [
    {
     "data": {
      "image/png": "[encoded data removed]",
      "text/plain": [
       "<Figure size 432x288 with 1 Axes>"
      ]
     },
     "metadata": {
      "needs_background": "light"
     },
     "output_type": "display_data"
    }
   ],
   "source": [
    "sns.countplot('property', data=df)\n",
    "plt.title('Property', fontsize=14)\n",
    "plt.show()"
   ]
  },
  {
   "cell_type": "markdown",
   "metadata": {
    "colab_type": "text",
    "id": "MvNDIIYVfciC"
   },
   "source": [
    "Property\n",
    "* A121 : real estate\n",
    "* A122 : if not A121 : building society savings agreement/ life insurance\n",
    "* A123 : if not A121/A122 : car or other, not in attribute 6\n",
    "* A124 : unknown / no property\n"
   ]
  },
  {
   "cell_type": "code",
   "execution_count": 17,
   "metadata": {
    "colab": {
     "base_uri": "https://localhost:8080/",
     "height": 295
    },
    "colab_type": "code",
    "id": "yyAiXxFCEP4y",
    "outputId": "dc81aec0-cf1b-4a65-96f0-5c4297cd3d46"
   },
   "outputs": [
    {
     "data": {
      "image/png": "[encoded data removed]",
      "text/plain": [
       "<Figure size 432x288 with 1 Axes>"
      ]
     },
     "metadata": {
      "needs_background": "light"
     },
     "output_type": "display_data"
    }
   ],
   "source": [
    "sns.countplot('otherInstallPlans', data=df)\n",
    "plt.title('Other installment plans', fontsize=14)\n",
    "plt.show()"
   ]
  },
  {
   "cell_type": "markdown",
   "metadata": {
    "colab_type": "text",
    "id": "bNRhauojfo5S"
   },
   "source": [
    "Other installment plans\n",
    "* A141 : bank\n",
    "* A142 : stores\n",
    "* A143 : none"
   ]
  },
  {
   "cell_type": "code",
   "execution_count": 18,
   "metadata": {
    "colab": {
     "base_uri": "https://localhost:8080/",
     "height": 295
    },
    "colab_type": "code",
    "id": "XtNVnvcHEapG",
    "outputId": "8b0c734f-2571-4819-ee1f-ad97831b3973"
   },
   "outputs": [
    {
     "data": {
      "image/png": "[encoded data removed]",
      "text/plain": [
       "<Figure size 432x288 with 1 Axes>"
      ]
     },
     "metadata": {
      "needs_background": "light"
     },
     "output_type": "display_data"
    }
   ],
   "source": [
    "sns.countplot('housing', data=df)\n",
    "plt.title('Housing', fontsize=14)\n",
    "plt.show()"
   ]
  },
  {
   "cell_type": "markdown",
   "metadata": {
    "colab_type": "text",
    "id": "pNraKyZOftEz"
   },
   "source": [
    "Housing\n",
    "* A151 : rent\n",
    "* A152 : own\n",
    "* A153 : for free"
   ]
  },
  {
   "cell_type": "code",
   "execution_count": 19,
   "metadata": {
    "colab": {
     "base_uri": "https://localhost:8080/",
     "height": 295
    },
    "colab_type": "code",
    "id": "Dzi-09vdEeXw",
    "outputId": "70e21048-a57a-40eb-b517-c47a09f330ad"
   },
   "outputs": [
    {
     "data": {
      "image/png": "[encoded data removed]",
      "text/plain": [
       "<Figure size 432x288 with 1 Axes>"
      ]
     },
     "metadata": {
      "needs_background": "light"
     },
     "output_type": "display_data"
    }
   ],
   "source": [
    "sns.countplot('job', data=df)\n",
    "plt.title('Job', fontsize=14)\n",
    "plt.show()"
   ]
  },
  {
   "cell_type": "markdown",
   "metadata": {
    "colab_type": "text",
    "id": "cf3i_nR5fyEe"
   },
   "source": [
    "Job\n",
    "* A171 : unemployed/ unskilled - non-resident\n",
    "* A172 : unskilled - resident\n",
    "* A173 : skilled employee / official\n",
    "* A174 : management/ self-employed/highly qualified employee/ officer"
   ]
  },
  {
   "cell_type": "code",
   "execution_count": 20,
   "metadata": {
    "colab": {
     "base_uri": "https://localhost:8080/",
     "height": 295
    },
    "colab_type": "code",
    "id": "S-boeqI0Eh9C",
    "outputId": "d0cc2997-c6f5-42a8-c362-d5d7a15868f8"
   },
   "outputs": [
    {
     "data": {
      "image/png": "[encoded data removed]",
      "text/plain": [
       "<Figure size 432x288 with 1 Axes>"
      ]
     },
     "metadata": {
      "needs_background": "light"
     },
     "output_type": "display_data"
    }
   ],
   "source": [
    "sns.countplot('phone', data=df)\n",
    "plt.title('Telephone', fontsize=14)\n",
    "plt.show()"
   ]
  },
  {
   "cell_type": "markdown",
   "metadata": {
    "colab_type": "text",
    "id": "kUqQhBybf5Cz"
   },
   "source": [
    "Telephone\n",
    "* A191 : none\n",
    "* A192 : yes, registered under the customers name"
   ]
  },
  {
   "cell_type": "code",
   "execution_count": 21,
   "metadata": {
    "colab": {
     "base_uri": "https://localhost:8080/",
     "height": 295
    },
    "colab_type": "code",
    "id": "-ZhJY3BWEl2N",
    "outputId": "06154084-894e-473d-a315-6904c048625f"
   },
   "outputs": [
    {
     "data": {
      "image/png": "[encoded data removed]",
      "text/plain": [
       "<Figure size 432x288 with 1 Axes>"
      ]
     },
     "metadata": {
      "needs_background": "light"
     },
     "output_type": "display_data"
    }
   ],
   "source": [
    "sns.countplot('foreignWorker', data=df)\n",
    "plt.title('Foreign worker', fontsize=14)\n",
    "plt.show()"
   ]
  },
  {
   "cell_type": "markdown",
   "metadata": {
    "colab_type": "text",
    "id": "9dKGzgVkf9AA"
   },
   "source": [
    "Foreign worker\n",
    "* A201 : yes\n",
    "* A202 : no"
   ]
  },
  {
   "cell_type": "markdown",
   "metadata": {
    "colab_type": "text",
    "id": "lys4Eh1WFQq5"
   },
   "source": [
    "From these plots, nothing of relevant has been detected.\n",
    "Let's take a look to the frequency plot for the risk value:"
   ]
  },
  {
   "cell_type": "code",
   "execution_count": 22,
   "metadata": {
    "colab": {
     "base_uri": "https://localhost:8080/",
     "height": 295
    },
    "colab_type": "code",
    "id": "Kd_DeFGs1d7r",
    "outputId": "dbba66d5-810d-4af7-c0ab-52688daff672"
   },
   "outputs": [
    {
     "data": {
      "image/png": "[encoded data removed]",
      "text/plain": [
       "<Figure size 432x288 with 1 Axes>"
      ]
     },
     "metadata": {
      "needs_background": "light"
     },
     "output_type": "display_data"
    }
   ],
   "source": [
    "sns.countplot('risk', data=df)\n",
    "plt.title('Risk Distribution', fontsize=14)\n",
    "plt.show()"
   ]
  },
  {
   "cell_type": "markdown",
   "metadata": {
    "colab_type": "text",
    "id": "yRtK5pgcoL88"
   },
   "source": [
    "As said before, the 2 categories are not perfectly balanced.\n",
    "Different approaches can be selected now. Let's take a look to outliers and other aspects of raw data, and then we will face this aspect."
   ]
  },
  {
   "cell_type": "markdown",
   "metadata": {
    "colab_type": "text",
    "id": "ChMZ0anzF_Bj"
   },
   "source": [
    "## Distribution and Outliers"
   ]
  },
  {
   "cell_type": "markdown",
   "metadata": {
    "colab_type": "text",
    "id": "_-aCnkSepuOj"
   },
   "source": [
    "The numerical attributes in German Credit Risk data have many outliers. Some plot can help to understand:"
   ]
  },
  {
   "cell_type": "code",
   "execution_count": 23,
   "metadata": {
    "colab": {
     "base_uri": "https://localhost:8080/",
     "height": 278
    },
    "colab_type": "code",
    "id": "7YIP_S8KGPwZ",
    "outputId": "d64909c5-4bb3-4636-da0c-798889b6a52d"
   },
   "outputs": [
    {
     "data": {
      "image/png": "[encoded data removed]",
      "text/plain": [
       "<Figure size 432x288 with 1 Axes>"
      ]
     },
     "metadata": {
      "needs_background": "light"
     },
     "output_type": "display_data"
    }
   ],
   "source": [
    "plt.boxplot(df['duration'], widths = 0.5)\n",
    "plt.ylabel('Duration of credist [Months]')\n",
    "plt.xlabel('Boxplot')\n",
    "plt.show()"
   ]
  },
  {
   "cell_type": "markdown",
   "metadata": {
    "colab_type": "text",
    "id": "nYXnYJCjp6MD"
   },
   "source": [
    "The average value for the duration of credits is 20 months, but some values are higher that 50. We can go deep and see if these values are trusted:"
   ]
  },
  {
   "cell_type": "code",
   "execution_count": 24,
   "metadata": {
    "colab": {
     "base_uri": "https://localhost:8080/",
     "height": 547
    },
    "colab_type": "code",
    "id": "KgiBnCGkOfYw",
    "outputId": "a5f23417-9491-40ef-d1f4-4bc5848b9770"
   },
   "outputs": [
    {
     "data": {
      "text/html": [
       "<div>\n",
       "<style scoped>\n",
       "    .dataframe tbody tr th:only-of-type {\n",
       "        vertical-align: middle;\n",
       "    }\n",
       "\n",
       "    .dataframe tbody tr th {\n",
       "        vertical-align: top;\n",
       "    }\n",
       "\n",
       "    .dataframe thead th {\n",
       "        text-align: right;\n",
       "    }\n",
       "</style>\n",
       "<table border=\"1\" class=\"dataframe\">\n",
       "  <thead>\n",
       "    <tr style=\"text-align: right;\">\n",
       "      <th></th>\n",
       "      <th>checkingAccount</th>\n",
       "      <th>duration</th>\n",
       "      <th>creditHistory</th>\n",
       "      <th>purpose</th>\n",
       "      <th>creditAmount</th>\n",
       "      <th>savingsAcc</th>\n",
       "      <th>employmentTime</th>\n",
       "      <th>installmentPercIncome</th>\n",
       "      <th>status</th>\n",
       "      <th>otherFin</th>\n",
       "      <th>...</th>\n",
       "      <th>property</th>\n",
       "      <th>age</th>\n",
       "      <th>otherInstallPlans</th>\n",
       "      <th>housing</th>\n",
       "      <th>numCredits</th>\n",
       "      <th>job</th>\n",
       "      <th>numOfMant</th>\n",
       "      <th>phone</th>\n",
       "      <th>foreignWorker</th>\n",
       "      <th>risk</th>\n",
       "    </tr>\n",
       "  </thead>\n",
       "  <tbody>\n",
       "    <tr>\n",
       "      <th>29</th>\n",
       "      <td>A11</td>\n",
       "      <td>60</td>\n",
       "      <td>A33</td>\n",
       "      <td>A49</td>\n",
       "      <td>6836</td>\n",
       "      <td>A61</td>\n",
       "      <td>A75</td>\n",
       "      <td>3</td>\n",
       "      <td>A93</td>\n",
       "      <td>A101</td>\n",
       "      <td>...</td>\n",
       "      <td>A124</td>\n",
       "      <td>63</td>\n",
       "      <td>A143</td>\n",
       "      <td>A152</td>\n",
       "      <td>2</td>\n",
       "      <td>A173</td>\n",
       "      <td>1</td>\n",
       "      <td>A192</td>\n",
       "      <td>A201</td>\n",
       "      <td>1</td>\n",
       "    </tr>\n",
       "    <tr>\n",
       "      <th>78</th>\n",
       "      <td>A14</td>\n",
       "      <td>54</td>\n",
       "      <td>A30</td>\n",
       "      <td>A41</td>\n",
       "      <td>9436</td>\n",
       "      <td>A65</td>\n",
       "      <td>A73</td>\n",
       "      <td>2</td>\n",
       "      <td>A93</td>\n",
       "      <td>A101</td>\n",
       "      <td>...</td>\n",
       "      <td>A122</td>\n",
       "      <td>39</td>\n",
       "      <td>A143</td>\n",
       "      <td>A152</td>\n",
       "      <td>1</td>\n",
       "      <td>A172</td>\n",
       "      <td>2</td>\n",
       "      <td>A191</td>\n",
       "      <td>A201</td>\n",
       "      <td>0</td>\n",
       "    </tr>\n",
       "    <tr>\n",
       "      <th>95</th>\n",
       "      <td>A12</td>\n",
       "      <td>54</td>\n",
       "      <td>A30</td>\n",
       "      <td>A49</td>\n",
       "      <td>15945</td>\n",
       "      <td>A61</td>\n",
       "      <td>A72</td>\n",
       "      <td>3</td>\n",
       "      <td>A93</td>\n",
       "      <td>A101</td>\n",
       "      <td>...</td>\n",
       "      <td>A124</td>\n",
       "      <td>58</td>\n",
       "      <td>A143</td>\n",
       "      <td>A151</td>\n",
       "      <td>1</td>\n",
       "      <td>A173</td>\n",
       "      <td>1</td>\n",
       "      <td>A192</td>\n",
       "      <td>A201</td>\n",
       "      <td>1</td>\n",
       "    </tr>\n",
       "    <tr>\n",
       "      <th>134</th>\n",
       "      <td>A14</td>\n",
       "      <td>60</td>\n",
       "      <td>A32</td>\n",
       "      <td>A43</td>\n",
       "      <td>10144</td>\n",
       "      <td>A62</td>\n",
       "      <td>A74</td>\n",
       "      <td>2</td>\n",
       "      <td>A92</td>\n",
       "      <td>A101</td>\n",
       "      <td>...</td>\n",
       "      <td>A121</td>\n",
       "      <td>21</td>\n",
       "      <td>A143</td>\n",
       "      <td>A152</td>\n",
       "      <td>1</td>\n",
       "      <td>A173</td>\n",
       "      <td>1</td>\n",
       "      <td>A192</td>\n",
       "      <td>A201</td>\n",
       "      <td>0</td>\n",
       "    </tr>\n",
       "    <tr>\n",
       "      <th>255</th>\n",
       "      <td>A12</td>\n",
       "      <td>60</td>\n",
       "      <td>A33</td>\n",
       "      <td>A43</td>\n",
       "      <td>7418</td>\n",
       "      <td>A65</td>\n",
       "      <td>A73</td>\n",
       "      <td>1</td>\n",
       "      <td>A93</td>\n",
       "      <td>A101</td>\n",
       "      <td>...</td>\n",
       "      <td>A121</td>\n",
       "      <td>27</td>\n",
       "      <td>A143</td>\n",
       "      <td>A152</td>\n",
       "      <td>1</td>\n",
       "      <td>A172</td>\n",
       "      <td>1</td>\n",
       "      <td>A191</td>\n",
       "      <td>A201</td>\n",
       "      <td>0</td>\n",
       "    </tr>\n",
       "    <tr>\n",
       "      <th>332</th>\n",
       "      <td>A12</td>\n",
       "      <td>60</td>\n",
       "      <td>A32</td>\n",
       "      <td>A40</td>\n",
       "      <td>7408</td>\n",
       "      <td>A62</td>\n",
       "      <td>A72</td>\n",
       "      <td>4</td>\n",
       "      <td>A92</td>\n",
       "      <td>A101</td>\n",
       "      <td>...</td>\n",
       "      <td>A122</td>\n",
       "      <td>24</td>\n",
       "      <td>A143</td>\n",
       "      <td>A152</td>\n",
       "      <td>1</td>\n",
       "      <td>A174</td>\n",
       "      <td>1</td>\n",
       "      <td>A191</td>\n",
       "      <td>A201</td>\n",
       "      <td>1</td>\n",
       "    </tr>\n",
       "    <tr>\n",
       "      <th>373</th>\n",
       "      <td>A14</td>\n",
       "      <td>60</td>\n",
       "      <td>A34</td>\n",
       "      <td>A40</td>\n",
       "      <td>13756</td>\n",
       "      <td>A65</td>\n",
       "      <td>A75</td>\n",
       "      <td>2</td>\n",
       "      <td>A93</td>\n",
       "      <td>A101</td>\n",
       "      <td>...</td>\n",
       "      <td>A124</td>\n",
       "      <td>63</td>\n",
       "      <td>A141</td>\n",
       "      <td>A153</td>\n",
       "      <td>1</td>\n",
       "      <td>A174</td>\n",
       "      <td>1</td>\n",
       "      <td>A192</td>\n",
       "      <td>A201</td>\n",
       "      <td>0</td>\n",
       "    </tr>\n",
       "    <tr>\n",
       "      <th>374</th>\n",
       "      <td>A12</td>\n",
       "      <td>60</td>\n",
       "      <td>A31</td>\n",
       "      <td>A410</td>\n",
       "      <td>14782</td>\n",
       "      <td>A62</td>\n",
       "      <td>A75</td>\n",
       "      <td>3</td>\n",
       "      <td>A92</td>\n",
       "      <td>A101</td>\n",
       "      <td>...</td>\n",
       "      <td>A124</td>\n",
       "      <td>60</td>\n",
       "      <td>A141</td>\n",
       "      <td>A153</td>\n",
       "      <td>2</td>\n",
       "      <td>A174</td>\n",
       "      <td>1</td>\n",
       "      <td>A192</td>\n",
       "      <td>A201</td>\n",
       "      <td>1</td>\n",
       "    </tr>\n",
       "    <tr>\n",
       "      <th>616</th>\n",
       "      <td>A12</td>\n",
       "      <td>60</td>\n",
       "      <td>A33</td>\n",
       "      <td>A43</td>\n",
       "      <td>9157</td>\n",
       "      <td>A65</td>\n",
       "      <td>A73</td>\n",
       "      <td>2</td>\n",
       "      <td>A93</td>\n",
       "      <td>A101</td>\n",
       "      <td>...</td>\n",
       "      <td>A124</td>\n",
       "      <td>27</td>\n",
       "      <td>A143</td>\n",
       "      <td>A153</td>\n",
       "      <td>1</td>\n",
       "      <td>A174</td>\n",
       "      <td>1</td>\n",
       "      <td>A191</td>\n",
       "      <td>A201</td>\n",
       "      <td>0</td>\n",
       "    </tr>\n",
       "    <tr>\n",
       "      <th>637</th>\n",
       "      <td>A14</td>\n",
       "      <td>60</td>\n",
       "      <td>A33</td>\n",
       "      <td>A43</td>\n",
       "      <td>15653</td>\n",
       "      <td>A61</td>\n",
       "      <td>A74</td>\n",
       "      <td>2</td>\n",
       "      <td>A93</td>\n",
       "      <td>A101</td>\n",
       "      <td>...</td>\n",
       "      <td>A123</td>\n",
       "      <td>21</td>\n",
       "      <td>A143</td>\n",
       "      <td>A152</td>\n",
       "      <td>2</td>\n",
       "      <td>A173</td>\n",
       "      <td>1</td>\n",
       "      <td>A192</td>\n",
       "      <td>A201</td>\n",
       "      <td>0</td>\n",
       "    </tr>\n",
       "    <tr>\n",
       "      <th>672</th>\n",
       "      <td>A14</td>\n",
       "      <td>60</td>\n",
       "      <td>A32</td>\n",
       "      <td>A40</td>\n",
       "      <td>10366</td>\n",
       "      <td>A61</td>\n",
       "      <td>A75</td>\n",
       "      <td>2</td>\n",
       "      <td>A93</td>\n",
       "      <td>A101</td>\n",
       "      <td>...</td>\n",
       "      <td>A122</td>\n",
       "      <td>42</td>\n",
       "      <td>A143</td>\n",
       "      <td>A152</td>\n",
       "      <td>1</td>\n",
       "      <td>A174</td>\n",
       "      <td>1</td>\n",
       "      <td>A192</td>\n",
       "      <td>A201</td>\n",
       "      <td>0</td>\n",
       "    </tr>\n",
       "    <tr>\n",
       "      <th>677</th>\n",
       "      <td>A12</td>\n",
       "      <td>72</td>\n",
       "      <td>A32</td>\n",
       "      <td>A43</td>\n",
       "      <td>5595</td>\n",
       "      <td>A62</td>\n",
       "      <td>A73</td>\n",
       "      <td>2</td>\n",
       "      <td>A94</td>\n",
       "      <td>A101</td>\n",
       "      <td>...</td>\n",
       "      <td>A123</td>\n",
       "      <td>24</td>\n",
       "      <td>A143</td>\n",
       "      <td>A152</td>\n",
       "      <td>1</td>\n",
       "      <td>A173</td>\n",
       "      <td>1</td>\n",
       "      <td>A191</td>\n",
       "      <td>A201</td>\n",
       "      <td>1</td>\n",
       "    </tr>\n",
       "    <tr>\n",
       "      <th>685</th>\n",
       "      <td>A14</td>\n",
       "      <td>60</td>\n",
       "      <td>A32</td>\n",
       "      <td>A40</td>\n",
       "      <td>6527</td>\n",
       "      <td>A65</td>\n",
       "      <td>A73</td>\n",
       "      <td>4</td>\n",
       "      <td>A93</td>\n",
       "      <td>A101</td>\n",
       "      <td>...</td>\n",
       "      <td>A124</td>\n",
       "      <td>34</td>\n",
       "      <td>A143</td>\n",
       "      <td>A153</td>\n",
       "      <td>1</td>\n",
       "      <td>A173</td>\n",
       "      <td>2</td>\n",
       "      <td>A192</td>\n",
       "      <td>A201</td>\n",
       "      <td>0</td>\n",
       "    </tr>\n",
       "    <tr>\n",
       "      <th>714</th>\n",
       "      <td>A12</td>\n",
       "      <td>60</td>\n",
       "      <td>A32</td>\n",
       "      <td>A40</td>\n",
       "      <td>14027</td>\n",
       "      <td>A61</td>\n",
       "      <td>A74</td>\n",
       "      <td>4</td>\n",
       "      <td>A93</td>\n",
       "      <td>A101</td>\n",
       "      <td>...</td>\n",
       "      <td>A124</td>\n",
       "      <td>27</td>\n",
       "      <td>A143</td>\n",
       "      <td>A152</td>\n",
       "      <td>1</td>\n",
       "      <td>A174</td>\n",
       "      <td>1</td>\n",
       "      <td>A192</td>\n",
       "      <td>A201</td>\n",
       "      <td>1</td>\n",
       "    </tr>\n",
       "    <tr>\n",
       "      <th>938</th>\n",
       "      <td>A12</td>\n",
       "      <td>60</td>\n",
       "      <td>A32</td>\n",
       "      <td>A46</td>\n",
       "      <td>6288</td>\n",
       "      <td>A61</td>\n",
       "      <td>A73</td>\n",
       "      <td>4</td>\n",
       "      <td>A93</td>\n",
       "      <td>A101</td>\n",
       "      <td>...</td>\n",
       "      <td>A124</td>\n",
       "      <td>42</td>\n",
       "      <td>A143</td>\n",
       "      <td>A153</td>\n",
       "      <td>1</td>\n",
       "      <td>A173</td>\n",
       "      <td>1</td>\n",
       "      <td>A191</td>\n",
       "      <td>A201</td>\n",
       "      <td>1</td>\n",
       "    </tr>\n",
       "    <tr>\n",
       "      <th>973</th>\n",
       "      <td>A11</td>\n",
       "      <td>60</td>\n",
       "      <td>A32</td>\n",
       "      <td>A49</td>\n",
       "      <td>7297</td>\n",
       "      <td>A61</td>\n",
       "      <td>A75</td>\n",
       "      <td>4</td>\n",
       "      <td>A93</td>\n",
       "      <td>A102</td>\n",
       "      <td>...</td>\n",
       "      <td>A124</td>\n",
       "      <td>36</td>\n",
       "      <td>A143</td>\n",
       "      <td>A151</td>\n",
       "      <td>1</td>\n",
       "      <td>A173</td>\n",
       "      <td>1</td>\n",
       "      <td>A191</td>\n",
       "      <td>A201</td>\n",
       "      <td>1</td>\n",
       "    </tr>\n",
       "  </tbody>\n",
       "</table>\n",
       "<p>16 rows × 21 columns</p>\n",
       "</div>"
      ],
      "text/plain": [
       "    checkingAccount  duration creditHistory purpose  creditAmount savingsAcc  \\\n",
       "29              A11        60           A33     A49          6836        A61   \n",
       "78              A14        54           A30     A41          9436        A65   \n",
       "95              A12        54           A30     A49         15945        A61   \n",
       "134             A14        60           A32     A43         10144        A62   \n",
       "255             A12        60           A33     A43          7418        A65   \n",
       "332             A12        60           A32     A40          7408        A62   \n",
       "373             A14        60           A34     A40         13756        A65   \n",
       "374             A12        60           A31    A410         14782        A62   \n",
       "616             A12        60           A33     A43          9157        A65   \n",
       "637             A14        60           A33     A43         15653        A61   \n",
       "672             A14        60           A32     A40         10366        A61   \n",
       "677             A12        72           A32     A43          5595        A62   \n",
       "685             A14        60           A32     A40          6527        A65   \n",
       "714             A12        60           A32     A40         14027        A61   \n",
       "938             A12        60           A32     A46          6288        A61   \n",
       "973             A11        60           A32     A49          7297        A61   \n",
       "\n",
       "    employmentTime  installmentPercIncome status otherFin  ...  property age  \\\n",
       "29             A75                      3    A93     A101  ...      A124  63   \n",
       "78             A73                      2    A93     A101  ...      A122  39   \n",
       "95             A72                      3    A93     A101  ...      A124  58   \n",
       "134            A74                      2    A92     A101  ...      A121  21   \n",
       "255            A73                      1    A93     A101  ...      A121  27   \n",
       "332            A72                      4    A92     A101  ...      A122  24   \n",
       "373            A75                      2    A93     A101  ...      A124  63   \n",
       "374            A75                      3    A92     A101  ...      A124  60   \n",
       "616            A73                      2    A93     A101  ...      A124  27   \n",
       "637            A74                      2    A93     A101  ...      A123  21   \n",
       "672            A75                      2    A93     A101  ...      A122  42   \n",
       "677            A73                      2    A94     A101  ...      A123  24   \n",
       "685            A73                      4    A93     A101  ...      A124  34   \n",
       "714            A74                      4    A93     A101  ...      A124  27   \n",
       "938            A73                      4    A93     A101  ...      A124  42   \n",
       "973            A75                      4    A93     A102  ...      A124  36   \n",
       "\n",
       "     otherInstallPlans housing numCredits   job numOfMant  phone  \\\n",
       "29                A143    A152          2  A173         1   A192   \n",
       "78                A143    A152          1  A172         2   A191   \n",
       "95                A143    A151          1  A173         1   A192   \n",
       "134               A143    A152          1  A173         1   A192   \n",
       "255               A143    A152          1  A172         1   A191   \n",
       "332               A143    A152          1  A174         1   A191   \n",
       "373               A141    A153          1  A174         1   A192   \n",
       "374               A141    A153          2  A174         1   A192   \n",
       "616               A143    A153          1  A174         1   A191   \n",
       "637               A143    A152          2  A173         1   A192   \n",
       "672               A143    A152          1  A174         1   A192   \n",
       "677               A143    A152          1  A173         1   A191   \n",
       "685               A143    A153          1  A173         2   A192   \n",
       "714               A143    A152          1  A174         1   A192   \n",
       "938               A143    A153          1  A173         1   A191   \n",
       "973               A143    A151          1  A173         1   A191   \n",
       "\n",
       "    foreignWorker risk  \n",
       "29           A201    1  \n",
       "78           A201    0  \n",
       "95           A201    1  \n",
       "134          A201    0  \n",
       "255          A201    0  \n",
       "332          A201    1  \n",
       "373          A201    0  \n",
       "374          A201    1  \n",
       "616          A201    0  \n",
       "637          A201    0  \n",
       "672          A201    0  \n",
       "677          A201    1  \n",
       "685          A201    0  \n",
       "714          A201    1  \n",
       "938          A201    1  \n",
       "973          A201    1  \n",
       "\n",
       "[16 rows x 21 columns]"
      ]
     },
     "execution_count": 24,
     "metadata": {},
     "output_type": "execute_result"
    }
   ],
   "source": [
    "df[ df['duration'] > 50]"
   ]
  },
  {
   "cell_type": "markdown",
   "metadata": {
    "colab_type": "text",
    "id": "Cc36i6SNqd2s"
   },
   "source": [
    "We can see that there is not a recurrent pattern in this data, so we have no reasons to don't trust it."
   ]
  },
  {
   "cell_type": "code",
   "execution_count": 25,
   "metadata": {
    "colab": {
     "base_uri": "https://localhost:8080/",
     "height": 278
    },
    "colab_type": "code",
    "id": "CCQYSGbZGaG2",
    "outputId": "73436205-430d-4598-8a74-26fa70b359cc"
   },
   "outputs": [
    {
     "data": {
      "image/png": "[encoded data removed]",
      "text/plain": [
       "<Figure size 432x288 with 1 Axes>"
      ]
     },
     "metadata": {
      "needs_background": "light"
     },
     "output_type": "display_data"
    }
   ],
   "source": [
    "plt.boxplot(df['creditAmount'], widths = 0.5)\n",
    "plt.ylabel('Credit Amount')\n",
    "plt.xlabel('Boxplot')\n",
    "plt.show()"
   ]
  },
  {
   "cell_type": "code",
   "execution_count": 26,
   "metadata": {
    "colab": {
     "base_uri": "https://localhost:8080/",
     "height": 157
    },
    "colab_type": "code",
    "id": "67ShN3hzPZkP",
    "outputId": "eba11941-c691-418a-dc3f-acc87dfebf1b"
   },
   "outputs": [
    {
     "data": {
      "text/html": [
       "<div>\n",
       "<style scoped>\n",
       "    .dataframe tbody tr th:only-of-type {\n",
       "        vertical-align: middle;\n",
       "    }\n",
       "\n",
       "    .dataframe tbody tr th {\n",
       "        vertical-align: top;\n",
       "    }\n",
       "\n",
       "    .dataframe thead th {\n",
       "        text-align: right;\n",
       "    }\n",
       "</style>\n",
       "<table border=\"1\" class=\"dataframe\">\n",
       "  <thead>\n",
       "    <tr style=\"text-align: right;\">\n",
       "      <th></th>\n",
       "      <th>checkingAccount</th>\n",
       "      <th>creditHistory</th>\n",
       "      <th>purpose</th>\n",
       "      <th>savingsAcc</th>\n",
       "      <th>employmentTime</th>\n",
       "      <th>installmentPercIncome</th>\n",
       "      <th>status</th>\n",
       "      <th>otherFin</th>\n",
       "      <th>timeResidence</th>\n",
       "      <th>property</th>\n",
       "      <th>age</th>\n",
       "      <th>otherInstallPlans</th>\n",
       "      <th>housing</th>\n",
       "      <th>numCredits</th>\n",
       "      <th>job</th>\n",
       "      <th>numOfMant</th>\n",
       "      <th>phone</th>\n",
       "      <th>foreignWorker</th>\n",
       "    </tr>\n",
       "    <tr>\n",
       "      <th>risk</th>\n",
       "      <th></th>\n",
       "      <th></th>\n",
       "      <th></th>\n",
       "      <th></th>\n",
       "      <th></th>\n",
       "      <th></th>\n",
       "      <th></th>\n",
       "      <th></th>\n",
       "      <th></th>\n",
       "      <th></th>\n",
       "      <th></th>\n",
       "      <th></th>\n",
       "      <th></th>\n",
       "      <th></th>\n",
       "      <th></th>\n",
       "      <th></th>\n",
       "      <th></th>\n",
       "      <th></th>\n",
       "    </tr>\n",
       "  </thead>\n",
       "  <tbody>\n",
       "    <tr>\n",
       "      <th>0</th>\n",
       "      <td>42</td>\n",
       "      <td>42</td>\n",
       "      <td>42</td>\n",
       "      <td>42</td>\n",
       "      <td>42</td>\n",
       "      <td>42</td>\n",
       "      <td>42</td>\n",
       "      <td>42</td>\n",
       "      <td>42</td>\n",
       "      <td>42</td>\n",
       "      <td>42</td>\n",
       "      <td>42</td>\n",
       "      <td>42</td>\n",
       "      <td>42</td>\n",
       "      <td>42</td>\n",
       "      <td>42</td>\n",
       "      <td>42</td>\n",
       "      <td>42</td>\n",
       "    </tr>\n",
       "    <tr>\n",
       "      <th>1</th>\n",
       "      <td>44</td>\n",
       "      <td>44</td>\n",
       "      <td>44</td>\n",
       "      <td>44</td>\n",
       "      <td>44</td>\n",
       "      <td>44</td>\n",
       "      <td>44</td>\n",
       "      <td>44</td>\n",
       "      <td>44</td>\n",
       "      <td>44</td>\n",
       "      <td>44</td>\n",
       "      <td>44</td>\n",
       "      <td>44</td>\n",
       "      <td>44</td>\n",
       "      <td>44</td>\n",
       "      <td>44</td>\n",
       "      <td>44</td>\n",
       "      <td>44</td>\n",
       "    </tr>\n",
       "  </tbody>\n",
       "</table>\n",
       "</div>"
      ],
      "text/plain": [
       "      checkingAccount  creditHistory  purpose  savingsAcc  employmentTime  \\\n",
       "risk                                                                        \n",
       "0                  42             42       42          42              42   \n",
       "1                  44             44       44          44              44   \n",
       "\n",
       "      installmentPercIncome  status  otherFin  timeResidence  property  age  \\\n",
       "risk                                                                          \n",
       "0                        42      42        42             42        42   42   \n",
       "1                        44      44        44             44        44   44   \n",
       "\n",
       "      otherInstallPlans  housing  numCredits  job  numOfMant  phone  \\\n",
       "risk                                                                  \n",
       "0                    42       42          42   42         42     42   \n",
       "1                    44       44          44   44         44     44   \n",
       "\n",
       "      foreignWorker  \n",
       "risk                 \n",
       "0                42  \n",
       "1                44  "
      ]
     },
     "execution_count": 26,
     "metadata": {},
     "output_type": "execute_result"
    }
   ],
   "source": [
    "df[ df['creditAmount'] > 7500].set_index(['risk','creditAmount', 'duration']).count(level=\"risk\")"
   ]
  },
  {
   "cell_type": "markdown",
   "metadata": {
    "colab_type": "text",
    "id": "2zpJPJe1vc-1"
   },
   "source": [
    "## Correlations"
   ]
  },
  {
   "cell_type": "markdown",
   "metadata": {
    "colab_type": "text",
    "id": "L9vv_uA7DIDL"
   },
   "source": [
    "Starting from the informations taked out from the heat map, we want to go deep into the analisys of them, in order to decide if some values can be dropped out from the dataset:"
   ]
  },
  {
   "cell_type": "code",
   "execution_count": 27,
   "metadata": {
    "colab": {
     "base_uri": "https://localhost:8080/",
     "height": 278
    },
    "colab_type": "code",
    "id": "kKF21vGUxBj7",
    "outputId": "a207a86b-61cf-4452-a0e5-3d7b00eaf156"
   },
   "outputs": [
    {
     "data": {
      "image/png": "[encoded data removed]",
      "text/plain": [
       "<Figure size 432x288 with 1 Axes>"
      ]
     },
     "metadata": {
      "needs_background": "light"
     },
     "output_type": "display_data"
    }
   ],
   "source": [
    "x = df['creditAmount']\n",
    "y = df['duration']\n",
    "plt.scatter(x, y, alpha=0.5)\n",
    "z = np.polyfit(x, y, 1)\n",
    "p = np.poly1d(z)\n",
    "plt.plot(x,p(x),\"black\")\n",
    "plt.xlabel('creditAmount')\n",
    "plt.ylabel('Duration')\n",
    "plt.show()"
   ]
  },
  {
   "cell_type": "markdown",
   "metadata": {
    "colab_type": "text",
    "id": "Gp_436xkygXy"
   },
   "source": [
    "As expected, the number of rates and the amount of credit are positivly correlated. But we can see different elements that have a high variance, so we cannot drop out one of the attributes as if has been completly represented by the other one"
   ]
  },
  {
   "cell_type": "markdown",
   "metadata": {
    "colab_type": "text",
    "id": "8l36fZ-azMeL"
   },
   "source": [
    "# Data Preparation"
   ]
  },
  {
   "cell_type": "markdown",
   "metadata": {
    "colab_type": "text",
    "id": "OvYNIcMszSxT"
   },
   "source": [
    "## One hot Encoding"
   ]
  },
  {
   "cell_type": "markdown",
   "metadata": {
    "colab_type": "text",
    "id": "smWSfQX91lqo"
   },
   "source": [
    "Apart from the target variabile, the dataset we use has now 7 numerical features and 13 categorical feature. Two of them are binary values, the others are nominal ones.\n",
    "\n",
    "There is something to do in order to work with the nominal values. \n",
    "One approach can be to map it into numerical value; so each level of a categorical feature corresponds to an integer value.\n",
    "The problem is that numerical values implies an order, but for our data this is not the correct approach.\n",
    "To overcame this problem, the most commonly technique used is one hot encoding. Each category value is converted into a new column: we assign 1 to the corresponding value and 0 to everything else.\n",
    "Let's look what happens in this case:"
   ]
  },
  {
   "cell_type": "code",
   "execution_count": 28,
   "metadata": {
    "colab": {},
    "colab_type": "code",
    "id": "ZfC_u5r94dmD"
   },
   "outputs": [],
   "source": [
    "categorical = ['checkingAccount', 'creditHistory', 'purpose', 'savingsAcc', 'employmentTime', 'status', 'otherFin', 'property', 'otherInstallPlans', 'housing', 'job']"
   ]
  },
  {
   "cell_type": "code",
   "execution_count": 29,
   "metadata": {
    "colab": {
     "base_uri": "https://localhost:8080/",
     "height": 426
    },
    "colab_type": "code",
    "id": "ioBRg-hi6P6j",
    "outputId": "edf7a923-26a3-4224-cf68-9bae3e0a9f54"
   },
   "outputs": [
    {
     "data": {
      "text/html": [
       "<div>\n",
       "<style scoped>\n",
       "    .dataframe tbody tr th:only-of-type {\n",
       "        vertical-align: middle;\n",
       "    }\n",
       "\n",
       "    .dataframe tbody tr th {\n",
       "        vertical-align: top;\n",
       "    }\n",
       "\n",
       "    .dataframe thead th {\n",
       "        text-align: right;\n",
       "    }\n",
       "</style>\n",
       "<table border=\"1\" class=\"dataframe\">\n",
       "  <thead>\n",
       "    <tr style=\"text-align: right;\">\n",
       "      <th></th>\n",
       "      <th>duration</th>\n",
       "      <th>creditAmount</th>\n",
       "      <th>installmentPercIncome</th>\n",
       "      <th>timeResidence</th>\n",
       "      <th>age</th>\n",
       "      <th>numCredits</th>\n",
       "      <th>numOfMant</th>\n",
       "      <th>phone</th>\n",
       "      <th>foreignWorker</th>\n",
       "      <th>checkingAccount_A11</th>\n",
       "      <th>...</th>\n",
       "      <th>otherInstallPlans_A141</th>\n",
       "      <th>otherInstallPlans_A142</th>\n",
       "      <th>otherInstallPlans_A143</th>\n",
       "      <th>housing_A151</th>\n",
       "      <th>housing_A152</th>\n",
       "      <th>housing_A153</th>\n",
       "      <th>job_A171</th>\n",
       "      <th>job_A172</th>\n",
       "      <th>job_A173</th>\n",
       "      <th>job_A174</th>\n",
       "    </tr>\n",
       "  </thead>\n",
       "  <tbody>\n",
       "    <tr>\n",
       "      <th>0</th>\n",
       "      <td>6</td>\n",
       "      <td>1169</td>\n",
       "      <td>4</td>\n",
       "      <td>4</td>\n",
       "      <td>67</td>\n",
       "      <td>2</td>\n",
       "      <td>1</td>\n",
       "      <td>A192</td>\n",
       "      <td>A201</td>\n",
       "      <td>1</td>\n",
       "      <td>...</td>\n",
       "      <td>0</td>\n",
       "      <td>0</td>\n",
       "      <td>1</td>\n",
       "      <td>0</td>\n",
       "      <td>1</td>\n",
       "      <td>0</td>\n",
       "      <td>0</td>\n",
       "      <td>0</td>\n",
       "      <td>1</td>\n",
       "      <td>0</td>\n",
       "    </tr>\n",
       "    <tr>\n",
       "      <th>1</th>\n",
       "      <td>48</td>\n",
       "      <td>5951</td>\n",
       "      <td>2</td>\n",
       "      <td>2</td>\n",
       "      <td>22</td>\n",
       "      <td>1</td>\n",
       "      <td>1</td>\n",
       "      <td>A191</td>\n",
       "      <td>A201</td>\n",
       "      <td>0</td>\n",
       "      <td>...</td>\n",
       "      <td>0</td>\n",
       "      <td>0</td>\n",
       "      <td>1</td>\n",
       "      <td>0</td>\n",
       "      <td>1</td>\n",
       "      <td>0</td>\n",
       "      <td>0</td>\n",
       "      <td>0</td>\n",
       "      <td>1</td>\n",
       "      <td>0</td>\n",
       "    </tr>\n",
       "    <tr>\n",
       "      <th>2</th>\n",
       "      <td>12</td>\n",
       "      <td>2096</td>\n",
       "      <td>2</td>\n",
       "      <td>3</td>\n",
       "      <td>49</td>\n",
       "      <td>1</td>\n",
       "      <td>2</td>\n",
       "      <td>A191</td>\n",
       "      <td>A201</td>\n",
       "      <td>0</td>\n",
       "      <td>...</td>\n",
       "      <td>0</td>\n",
       "      <td>0</td>\n",
       "      <td>1</td>\n",
       "      <td>0</td>\n",
       "      <td>1</td>\n",
       "      <td>0</td>\n",
       "      <td>0</td>\n",
       "      <td>1</td>\n",
       "      <td>0</td>\n",
       "      <td>0</td>\n",
       "    </tr>\n",
       "    <tr>\n",
       "      <th>3</th>\n",
       "      <td>42</td>\n",
       "      <td>7882</td>\n",
       "      <td>2</td>\n",
       "      <td>4</td>\n",
       "      <td>45</td>\n",
       "      <td>1</td>\n",
       "      <td>2</td>\n",
       "      <td>A191</td>\n",
       "      <td>A201</td>\n",
       "      <td>1</td>\n",
       "      <td>...</td>\n",
       "      <td>0</td>\n",
       "      <td>0</td>\n",
       "      <td>1</td>\n",
       "      <td>0</td>\n",
       "      <td>0</td>\n",
       "      <td>1</td>\n",
       "      <td>0</td>\n",
       "      <td>0</td>\n",
       "      <td>1</td>\n",
       "      <td>0</td>\n",
       "    </tr>\n",
       "    <tr>\n",
       "      <th>4</th>\n",
       "      <td>24</td>\n",
       "      <td>4870</td>\n",
       "      <td>3</td>\n",
       "      <td>4</td>\n",
       "      <td>53</td>\n",
       "      <td>2</td>\n",
       "      <td>2</td>\n",
       "      <td>A191</td>\n",
       "      <td>A201</td>\n",
       "      <td>1</td>\n",
       "      <td>...</td>\n",
       "      <td>0</td>\n",
       "      <td>0</td>\n",
       "      <td>1</td>\n",
       "      <td>0</td>\n",
       "      <td>0</td>\n",
       "      <td>1</td>\n",
       "      <td>0</td>\n",
       "      <td>0</td>\n",
       "      <td>1</td>\n",
       "      <td>0</td>\n",
       "    </tr>\n",
       "    <tr>\n",
       "      <th>...</th>\n",
       "      <td>...</td>\n",
       "      <td>...</td>\n",
       "      <td>...</td>\n",
       "      <td>...</td>\n",
       "      <td>...</td>\n",
       "      <td>...</td>\n",
       "      <td>...</td>\n",
       "      <td>...</td>\n",
       "      <td>...</td>\n",
       "      <td>...</td>\n",
       "      <td>...</td>\n",
       "      <td>...</td>\n",
       "      <td>...</td>\n",
       "      <td>...</td>\n",
       "      <td>...</td>\n",
       "      <td>...</td>\n",
       "      <td>...</td>\n",
       "      <td>...</td>\n",
       "      <td>...</td>\n",
       "      <td>...</td>\n",
       "      <td>...</td>\n",
       "    </tr>\n",
       "    <tr>\n",
       "      <th>995</th>\n",
       "      <td>12</td>\n",
       "      <td>1736</td>\n",
       "      <td>3</td>\n",
       "      <td>4</td>\n",
       "      <td>31</td>\n",
       "      <td>1</td>\n",
       "      <td>1</td>\n",
       "      <td>A191</td>\n",
       "      <td>A201</td>\n",
       "      <td>0</td>\n",
       "      <td>...</td>\n",
       "      <td>0</td>\n",
       "      <td>0</td>\n",
       "      <td>1</td>\n",
       "      <td>0</td>\n",
       "      <td>1</td>\n",
       "      <td>0</td>\n",
       "      <td>0</td>\n",
       "      <td>1</td>\n",
       "      <td>0</td>\n",
       "      <td>0</td>\n",
       "    </tr>\n",
       "    <tr>\n",
       "      <th>996</th>\n",
       "      <td>30</td>\n",
       "      <td>3857</td>\n",
       "      <td>4</td>\n",
       "      <td>4</td>\n",
       "      <td>40</td>\n",
       "      <td>1</td>\n",
       "      <td>1</td>\n",
       "      <td>A192</td>\n",
       "      <td>A201</td>\n",
       "      <td>1</td>\n",
       "      <td>...</td>\n",
       "      <td>0</td>\n",
       "      <td>0</td>\n",
       "      <td>1</td>\n",
       "      <td>0</td>\n",
       "      <td>1</td>\n",
       "      <td>0</td>\n",
       "      <td>0</td>\n",
       "      <td>0</td>\n",
       "      <td>0</td>\n",
       "      <td>1</td>\n",
       "    </tr>\n",
       "    <tr>\n",
       "      <th>997</th>\n",
       "      <td>12</td>\n",
       "      <td>804</td>\n",
       "      <td>4</td>\n",
       "      <td>4</td>\n",
       "      <td>38</td>\n",
       "      <td>1</td>\n",
       "      <td>1</td>\n",
       "      <td>A191</td>\n",
       "      <td>A201</td>\n",
       "      <td>0</td>\n",
       "      <td>...</td>\n",
       "      <td>0</td>\n",
       "      <td>0</td>\n",
       "      <td>1</td>\n",
       "      <td>0</td>\n",
       "      <td>1</td>\n",
       "      <td>0</td>\n",
       "      <td>0</td>\n",
       "      <td>0</td>\n",
       "      <td>1</td>\n",
       "      <td>0</td>\n",
       "    </tr>\n",
       "    <tr>\n",
       "      <th>998</th>\n",
       "      <td>45</td>\n",
       "      <td>1845</td>\n",
       "      <td>4</td>\n",
       "      <td>4</td>\n",
       "      <td>23</td>\n",
       "      <td>1</td>\n",
       "      <td>1</td>\n",
       "      <td>A192</td>\n",
       "      <td>A201</td>\n",
       "      <td>1</td>\n",
       "      <td>...</td>\n",
       "      <td>0</td>\n",
       "      <td>0</td>\n",
       "      <td>1</td>\n",
       "      <td>0</td>\n",
       "      <td>0</td>\n",
       "      <td>1</td>\n",
       "      <td>0</td>\n",
       "      <td>0</td>\n",
       "      <td>1</td>\n",
       "      <td>0</td>\n",
       "    </tr>\n",
       "    <tr>\n",
       "      <th>999</th>\n",
       "      <td>45</td>\n",
       "      <td>4576</td>\n",
       "      <td>3</td>\n",
       "      <td>4</td>\n",
       "      <td>27</td>\n",
       "      <td>1</td>\n",
       "      <td>1</td>\n",
       "      <td>A191</td>\n",
       "      <td>A201</td>\n",
       "      <td>0</td>\n",
       "      <td>...</td>\n",
       "      <td>0</td>\n",
       "      <td>0</td>\n",
       "      <td>1</td>\n",
       "      <td>0</td>\n",
       "      <td>1</td>\n",
       "      <td>0</td>\n",
       "      <td>0</td>\n",
       "      <td>0</td>\n",
       "      <td>1</td>\n",
       "      <td>0</td>\n",
       "    </tr>\n",
       "  </tbody>\n",
       "</table>\n",
       "<p>1000 rows × 59 columns</p>\n",
       "</div>"
      ],
      "text/plain": [
       "     duration  creditAmount  installmentPercIncome  timeResidence  age  \\\n",
       "0           6          1169                      4              4   67   \n",
       "1          48          5951                      2              2   22   \n",
       "2          12          2096                      2              3   49   \n",
       "3          42          7882                      2              4   45   \n",
       "4          24          4870                      3              4   53   \n",
       "..        ...           ...                    ...            ...  ...   \n",
       "995        12          1736                      3              4   31   \n",
       "996        30          3857                      4              4   40   \n",
       "997        12           804                      4              4   38   \n",
       "998        45          1845                      4              4   23   \n",
       "999        45          4576                      3              4   27   \n",
       "\n",
       "     numCredits  numOfMant phone foreignWorker  checkingAccount_A11  ...  \\\n",
       "0             2          1  A192          A201                    1  ...   \n",
       "1             1          1  A191          A201                    0  ...   \n",
       "2             1          2  A191          A201                    0  ...   \n",
       "3             1          2  A191          A201                    1  ...   \n",
       "4             2          2  A191          A201                    1  ...   \n",
       "..          ...        ...   ...           ...                  ...  ...   \n",
       "995           1          1  A191          A201                    0  ...   \n",
       "996           1          1  A192          A201                    1  ...   \n",
       "997           1          1  A191          A201                    0  ...   \n",
       "998           1          1  A192          A201                    1  ...   \n",
       "999           1          1  A191          A201                    0  ...   \n",
       "\n",
       "     otherInstallPlans_A141  otherInstallPlans_A142  otherInstallPlans_A143  \\\n",
       "0                         0                       0                       1   \n",
       "1                         0                       0                       1   \n",
       "2                         0                       0                       1   \n",
       "3                         0                       0                       1   \n",
       "4                         0                       0                       1   \n",
       "..                      ...                     ...                     ...   \n",
       "995                       0                       0                       1   \n",
       "996                       0                       0                       1   \n",
       "997                       0                       0                       1   \n",
       "998                       0                       0                       1   \n",
       "999                       0                       0                       1   \n",
       "\n",
       "     housing_A151  housing_A152  housing_A153  job_A171  job_A172  job_A173  \\\n",
       "0               0             1             0         0         0         1   \n",
       "1               0             1             0         0         0         1   \n",
       "2               0             1             0         0         1         0   \n",
       "3               0             0             1         0         0         1   \n",
       "4               0             0             1         0         0         1   \n",
       "..            ...           ...           ...       ...       ...       ...   \n",
       "995             0             1             0         0         1         0   \n",
       "996             0             1             0         0         0         0   \n",
       "997             0             1             0         0         0         1   \n",
       "998             0             0             1         0         0         1   \n",
       "999             0             1             0         0         0         1   \n",
       "\n",
       "     job_A174  \n",
       "0           0  \n",
       "1           0  \n",
       "2           0  \n",
       "3           0  \n",
       "4           0  \n",
       "..        ...  \n",
       "995         0  \n",
       "996         1  \n",
       "997         0  \n",
       "998         0  \n",
       "999         0  \n",
       "\n",
       "[1000 rows x 59 columns]"
      ]
     },
     "execution_count": 29,
     "metadata": {},
     "output_type": "execute_result"
    }
   ],
   "source": [
    "Y = df['risk'].copy()\n",
    "oneHotDF = df.copy()\n",
    "oneHotDF.drop(['risk'],axis=1, inplace=True)\n",
    "\n",
    "for att in categorical:\n",
    "  oneHotDF = pd.concat([oneHotDF,pd.get_dummies(oneHotDF[att], prefix = att)], axis=1)\n",
    "  oneHotDF .drop([att],axis=1, inplace=True)\n",
    "oneHotDF"
   ]
  },
  {
   "cell_type": "markdown",
   "metadata": {
    "colab_type": "text",
    "id": "8Xd8QjLMowpO"
   },
   "source": [
    "Binary categorical features can be mapped as 0-1 variables:"
   ]
  },
  {
   "cell_type": "code",
   "execution_count": 30,
   "metadata": {
    "colab": {},
    "colab_type": "code",
    "id": "Pd6G7d-towQX"
   },
   "outputs": [],
   "source": [
    "phoneMapping = {\n",
    "    'A191' : 1,\n",
    "    'A192' : 0\n",
    "}\n",
    "\n",
    "foreignWorkerMapping = {\n",
    "    'A202' : 1,\n",
    "    'A201' : 0\n",
    "}\n",
    "oneHotDF['phone'] = oneHotDF['phone'].map(phoneMapping)\n",
    "oneHotDF['foreignWorker'] = oneHotDF['foreignWorker'].map(foreignWorkerMapping)"
   ]
  },
  {
   "cell_type": "code",
   "execution_count": 31,
   "metadata": {
    "colab": {
     "base_uri": "https://localhost:8080/",
     "height": 426
    },
    "colab_type": "code",
    "id": "7Dx2RQsfpu2W",
    "outputId": "8b6ace72-d5e1-478c-d7b3-caf3864732fb"
   },
   "outputs": [
    {
     "data": {
      "text/html": [
       "<div>\n",
       "<style scoped>\n",
       "    .dataframe tbody tr th:only-of-type {\n",
       "        vertical-align: middle;\n",
       "    }\n",
       "\n",
       "    .dataframe tbody tr th {\n",
       "        vertical-align: top;\n",
       "    }\n",
       "\n",
       "    .dataframe thead th {\n",
       "        text-align: right;\n",
       "    }\n",
       "</style>\n",
       "<table border=\"1\" class=\"dataframe\">\n",
       "  <thead>\n",
       "    <tr style=\"text-align: right;\">\n",
       "      <th></th>\n",
       "      <th>duration</th>\n",
       "      <th>creditAmount</th>\n",
       "      <th>installmentPercIncome</th>\n",
       "      <th>timeResidence</th>\n",
       "      <th>age</th>\n",
       "      <th>numCredits</th>\n",
       "      <th>numOfMant</th>\n",
       "      <th>phone</th>\n",
       "      <th>foreignWorker</th>\n",
       "      <th>checkingAccount_A11</th>\n",
       "      <th>...</th>\n",
       "      <th>otherInstallPlans_A141</th>\n",
       "      <th>otherInstallPlans_A142</th>\n",
       "      <th>otherInstallPlans_A143</th>\n",
       "      <th>housing_A151</th>\n",
       "      <th>housing_A152</th>\n",
       "      <th>housing_A153</th>\n",
       "      <th>job_A171</th>\n",
       "      <th>job_A172</th>\n",
       "      <th>job_A173</th>\n",
       "      <th>job_A174</th>\n",
       "    </tr>\n",
       "  </thead>\n",
       "  <tbody>\n",
       "    <tr>\n",
       "      <th>0</th>\n",
       "      <td>6</td>\n",
       "      <td>1169</td>\n",
       "      <td>4</td>\n",
       "      <td>4</td>\n",
       "      <td>67</td>\n",
       "      <td>2</td>\n",
       "      <td>1</td>\n",
       "      <td>0</td>\n",
       "      <td>0</td>\n",
       "      <td>1</td>\n",
       "      <td>...</td>\n",
       "      <td>0</td>\n",
       "      <td>0</td>\n",
       "      <td>1</td>\n",
       "      <td>0</td>\n",
       "      <td>1</td>\n",
       "      <td>0</td>\n",
       "      <td>0</td>\n",
       "      <td>0</td>\n",
       "      <td>1</td>\n",
       "      <td>0</td>\n",
       "    </tr>\n",
       "    <tr>\n",
       "      <th>1</th>\n",
       "      <td>48</td>\n",
       "      <td>5951</td>\n",
       "      <td>2</td>\n",
       "      <td>2</td>\n",
       "      <td>22</td>\n",
       "      <td>1</td>\n",
       "      <td>1</td>\n",
       "      <td>1</td>\n",
       "      <td>0</td>\n",
       "      <td>0</td>\n",
       "      <td>...</td>\n",
       "      <td>0</td>\n",
       "      <td>0</td>\n",
       "      <td>1</td>\n",
       "      <td>0</td>\n",
       "      <td>1</td>\n",
       "      <td>0</td>\n",
       "      <td>0</td>\n",
       "      <td>0</td>\n",
       "      <td>1</td>\n",
       "      <td>0</td>\n",
       "    </tr>\n",
       "    <tr>\n",
       "      <th>2</th>\n",
       "      <td>12</td>\n",
       "      <td>2096</td>\n",
       "      <td>2</td>\n",
       "      <td>3</td>\n",
       "      <td>49</td>\n",
       "      <td>1</td>\n",
       "      <td>2</td>\n",
       "      <td>1</td>\n",
       "      <td>0</td>\n",
       "      <td>0</td>\n",
       "      <td>...</td>\n",
       "      <td>0</td>\n",
       "      <td>0</td>\n",
       "      <td>1</td>\n",
       "      <td>0</td>\n",
       "      <td>1</td>\n",
       "      <td>0</td>\n",
       "      <td>0</td>\n",
       "      <td>1</td>\n",
       "      <td>0</td>\n",
       "      <td>0</td>\n",
       "    </tr>\n",
       "    <tr>\n",
       "      <th>3</th>\n",
       "      <td>42</td>\n",
       "      <td>7882</td>\n",
       "      <td>2</td>\n",
       "      <td>4</td>\n",
       "      <td>45</td>\n",
       "      <td>1</td>\n",
       "      <td>2</td>\n",
       "      <td>1</td>\n",
       "      <td>0</td>\n",
       "      <td>1</td>\n",
       "      <td>...</td>\n",
       "      <td>0</td>\n",
       "      <td>0</td>\n",
       "      <td>1</td>\n",
       "      <td>0</td>\n",
       "      <td>0</td>\n",
       "      <td>1</td>\n",
       "      <td>0</td>\n",
       "      <td>0</td>\n",
       "      <td>1</td>\n",
       "      <td>0</td>\n",
       "    </tr>\n",
       "    <tr>\n",
       "      <th>4</th>\n",
       "      <td>24</td>\n",
       "      <td>4870</td>\n",
       "      <td>3</td>\n",
       "      <td>4</td>\n",
       "      <td>53</td>\n",
       "      <td>2</td>\n",
       "      <td>2</td>\n",
       "      <td>1</td>\n",
       "      <td>0</td>\n",
       "      <td>1</td>\n",
       "      <td>...</td>\n",
       "      <td>0</td>\n",
       "      <td>0</td>\n",
       "      <td>1</td>\n",
       "      <td>0</td>\n",
       "      <td>0</td>\n",
       "      <td>1</td>\n",
       "      <td>0</td>\n",
       "      <td>0</td>\n",
       "      <td>1</td>\n",
       "      <td>0</td>\n",
       "    </tr>\n",
       "    <tr>\n",
       "      <th>...</th>\n",
       "      <td>...</td>\n",
       "      <td>...</td>\n",
       "      <td>...</td>\n",
       "      <td>...</td>\n",
       "      <td>...</td>\n",
       "      <td>...</td>\n",
       "      <td>...</td>\n",
       "      <td>...</td>\n",
       "      <td>...</td>\n",
       "      <td>...</td>\n",
       "      <td>...</td>\n",
       "      <td>...</td>\n",
       "      <td>...</td>\n",
       "      <td>...</td>\n",
       "      <td>...</td>\n",
       "      <td>...</td>\n",
       "      <td>...</td>\n",
       "      <td>...</td>\n",
       "      <td>...</td>\n",
       "      <td>...</td>\n",
       "      <td>...</td>\n",
       "    </tr>\n",
       "    <tr>\n",
       "      <th>995</th>\n",
       "      <td>12</td>\n",
       "      <td>1736</td>\n",
       "      <td>3</td>\n",
       "      <td>4</td>\n",
       "      <td>31</td>\n",
       "      <td>1</td>\n",
       "      <td>1</td>\n",
       "      <td>1</td>\n",
       "      <td>0</td>\n",
       "      <td>0</td>\n",
       "      <td>...</td>\n",
       "      <td>0</td>\n",
       "      <td>0</td>\n",
       "      <td>1</td>\n",
       "      <td>0</td>\n",
       "      <td>1</td>\n",
       "      <td>0</td>\n",
       "      <td>0</td>\n",
       "      <td>1</td>\n",
       "      <td>0</td>\n",
       "      <td>0</td>\n",
       "    </tr>\n",
       "    <tr>\n",
       "      <th>996</th>\n",
       "      <td>30</td>\n",
       "      <td>3857</td>\n",
       "      <td>4</td>\n",
       "      <td>4</td>\n",
       "      <td>40</td>\n",
       "      <td>1</td>\n",
       "      <td>1</td>\n",
       "      <td>0</td>\n",
       "      <td>0</td>\n",
       "      <td>1</td>\n",
       "      <td>...</td>\n",
       "      <td>0</td>\n",
       "      <td>0</td>\n",
       "      <td>1</td>\n",
       "      <td>0</td>\n",
       "      <td>1</td>\n",
       "      <td>0</td>\n",
       "      <td>0</td>\n",
       "      <td>0</td>\n",
       "      <td>0</td>\n",
       "      <td>1</td>\n",
       "    </tr>\n",
       "    <tr>\n",
       "      <th>997</th>\n",
       "      <td>12</td>\n",
       "      <td>804</td>\n",
       "      <td>4</td>\n",
       "      <td>4</td>\n",
       "      <td>38</td>\n",
       "      <td>1</td>\n",
       "      <td>1</td>\n",
       "      <td>1</td>\n",
       "      <td>0</td>\n",
       "      <td>0</td>\n",
       "      <td>...</td>\n",
       "      <td>0</td>\n",
       "      <td>0</td>\n",
       "      <td>1</td>\n",
       "      <td>0</td>\n",
       "      <td>1</td>\n",
       "      <td>0</td>\n",
       "      <td>0</td>\n",
       "      <td>0</td>\n",
       "      <td>1</td>\n",
       "      <td>0</td>\n",
       "    </tr>\n",
       "    <tr>\n",
       "      <th>998</th>\n",
       "      <td>45</td>\n",
       "      <td>1845</td>\n",
       "      <td>4</td>\n",
       "      <td>4</td>\n",
       "      <td>23</td>\n",
       "      <td>1</td>\n",
       "      <td>1</td>\n",
       "      <td>0</td>\n",
       "      <td>0</td>\n",
       "      <td>1</td>\n",
       "      <td>...</td>\n",
       "      <td>0</td>\n",
       "      <td>0</td>\n",
       "      <td>1</td>\n",
       "      <td>0</td>\n",
       "      <td>0</td>\n",
       "      <td>1</td>\n",
       "      <td>0</td>\n",
       "      <td>0</td>\n",
       "      <td>1</td>\n",
       "      <td>0</td>\n",
       "    </tr>\n",
       "    <tr>\n",
       "      <th>999</th>\n",
       "      <td>45</td>\n",
       "      <td>4576</td>\n",
       "      <td>3</td>\n",
       "      <td>4</td>\n",
       "      <td>27</td>\n",
       "      <td>1</td>\n",
       "      <td>1</td>\n",
       "      <td>1</td>\n",
       "      <td>0</td>\n",
       "      <td>0</td>\n",
       "      <td>...</td>\n",
       "      <td>0</td>\n",
       "      <td>0</td>\n",
       "      <td>1</td>\n",
       "      <td>0</td>\n",
       "      <td>1</td>\n",
       "      <td>0</td>\n",
       "      <td>0</td>\n",
       "      <td>0</td>\n",
       "      <td>1</td>\n",
       "      <td>0</td>\n",
       "    </tr>\n",
       "  </tbody>\n",
       "</table>\n",
       "<p>1000 rows × 59 columns</p>\n",
       "</div>"
      ],
      "text/plain": [
       "     duration  creditAmount  installmentPercIncome  timeResidence  age  \\\n",
       "0           6          1169                      4              4   67   \n",
       "1          48          5951                      2              2   22   \n",
       "2          12          2096                      2              3   49   \n",
       "3          42          7882                      2              4   45   \n",
       "4          24          4870                      3              4   53   \n",
       "..        ...           ...                    ...            ...  ...   \n",
       "995        12          1736                      3              4   31   \n",
       "996        30          3857                      4              4   40   \n",
       "997        12           804                      4              4   38   \n",
       "998        45          1845                      4              4   23   \n",
       "999        45          4576                      3              4   27   \n",
       "\n",
       "     numCredits  numOfMant  phone  foreignWorker  checkingAccount_A11  ...  \\\n",
       "0             2          1      0              0                    1  ...   \n",
       "1             1          1      1              0                    0  ...   \n",
       "2             1          2      1              0                    0  ...   \n",
       "3             1          2      1              0                    1  ...   \n",
       "4             2          2      1              0                    1  ...   \n",
       "..          ...        ...    ...            ...                  ...  ...   \n",
       "995           1          1      1              0                    0  ...   \n",
       "996           1          1      0              0                    1  ...   \n",
       "997           1          1      1              0                    0  ...   \n",
       "998           1          1      0              0                    1  ...   \n",
       "999           1          1      1              0                    0  ...   \n",
       "\n",
       "     otherInstallPlans_A141  otherInstallPlans_A142  otherInstallPlans_A143  \\\n",
       "0                         0                       0                       1   \n",
       "1                         0                       0                       1   \n",
       "2                         0                       0                       1   \n",
       "3                         0                       0                       1   \n",
       "4                         0                       0                       1   \n",
       "..                      ...                     ...                     ...   \n",
       "995                       0                       0                       1   \n",
       "996                       0                       0                       1   \n",
       "997                       0                       0                       1   \n",
       "998                       0                       0                       1   \n",
       "999                       0                       0                       1   \n",
       "\n",
       "     housing_A151  housing_A152  housing_A153  job_A171  job_A172  job_A173  \\\n",
       "0               0             1             0         0         0         1   \n",
       "1               0             1             0         0         0         1   \n",
       "2               0             1             0         0         1         0   \n",
       "3               0             0             1         0         0         1   \n",
       "4               0             0             1         0         0         1   \n",
       "..            ...           ...           ...       ...       ...       ...   \n",
       "995             0             1             0         0         1         0   \n",
       "996             0             1             0         0         0         0   \n",
       "997             0             1             0         0         0         1   \n",
       "998             0             0             1         0         0         1   \n",
       "999             0             1             0         0         0         1   \n",
       "\n",
       "     job_A174  \n",
       "0           0  \n",
       "1           0  \n",
       "2           0  \n",
       "3           0  \n",
       "4           0  \n",
       "..        ...  \n",
       "995         0  \n",
       "996         1  \n",
       "997         0  \n",
       "998         0  \n",
       "999         0  \n",
       "\n",
       "[1000 rows x 59 columns]"
      ]
     },
     "execution_count": 31,
     "metadata": {},
     "output_type": "execute_result"
    }
   ],
   "source": [
    "oneHotDF"
   ]
  },
  {
   "cell_type": "markdown",
   "metadata": {
    "colab_type": "text",
    "id": "Wl7MHhJ_6RhL"
   },
   "source": [
    "The one-hot-encoding procedure is necessary, but we can see that it has create a dataframe having three times the number of columns than the initial one. \n"
   ]
  },
  {
   "cell_type": "markdown",
   "metadata": {
    "colab_type": "text",
    "id": "0DBCGtliokr-"
   },
   "source": [
    "## PCA"
   ]
  },
  {
   "cell_type": "markdown",
   "metadata": {
    "colab_type": "text",
    "id": "7HGAWWmjnnfJ"
   },
   "source": [
    "The PCA (Principal Components Analysis) is a tecnique of dimensionality reduction, based on the idea of preserve the highest variance among the data but reducing the number of features.\n",
    "\n",
    "Principal component are a new coordinate system. Given data on D variables, the hope is that the data points will lie mainly in a linear subspace of dimension d < D.\n",
    "The PCs decompose the total variance of the data, so the sum of the variance among all the PCs corresponds to the total variance among original data.\n",
    "\n",
    "The first PCs is the one which have the higher variance, the last PCs is the one having lower variance.\n",
    "\n",
    "Each PC is an ortogonal linear transformation of the original data.\n"
   ]
  },
  {
   "cell_type": "code",
   "execution_count": 32,
   "metadata": {
    "colab": {
     "base_uri": "https://localhost:8080/",
     "height": 34
    },
    "colab_type": "code",
    "id": "1GgBPomLnn5s",
    "outputId": "8da69f19-199c-4c02-c579-0098b8b0d395"
   },
   "outputs": [
    {
     "name": "stdout",
     "output_type": "stream",
     "text": [
      "There are no null/missing values in the dataset.\n"
     ]
    }
   ],
   "source": [
    "X_pca = oneHotDF.copy()\n",
    "# Normalize:\n",
    "X_pca_norm = (X_pca-X_pca.mean())/X_pca.std()\n",
    "print(\"There are \" + (\"some\" if X_pca_norm.isnull().values.any() else \"no\")  + \" null/missing values in the dataset.\")"
   ]
  },
  {
   "cell_type": "code",
   "execution_count": 33,
   "metadata": {
    "colab": {
     "base_uri": "https://localhost:8080/",
     "height": 312
    },
    "colab_type": "code",
    "id": "kHMpXpvPn3je",
    "outputId": "f92b14f0-5477-418c-a6d6-de0504bf02dd"
   },
   "outputs": [
    {
     "data": {
      "text/plain": [
       "Text(0, 0.5, 'Variance explained')"
      ]
     },
     "execution_count": 33,
     "metadata": {},
     "output_type": "execute_result"
    },
    {
     "data": {
      "image/png": "[encoded data removed]",
      "text/plain": [
       "<Figure size 432x288 with 1 Axes>"
      ]
     },
     "metadata": {
      "needs_background": "light"
     },
     "output_type": "display_data"
    }
   ],
   "source": [
    "# calculate the principal components\n",
    "X_pca = PCA(random_state = SEED).fit(X_pca_norm)\n",
    "cumvar = np.cumsum(X_pca.explained_variance_ratio_)\n",
    "#Plotting cumulative variance\n",
    "plt.plot(cumvar)\n",
    "plt.title('Cumulative variance')\n",
    "plt.xlabel('Number of components')\n",
    "plt.ylabel('Variance explained')"
   ]
  },
  {
   "cell_type": "code",
   "execution_count": 34,
   "metadata": {
    "colab": {
     "base_uri": "https://localhost:8080/",
     "height": 34
    },
    "colab_type": "code",
    "id": "bDTMERghsO8t",
    "outputId": "3b515daf-b569-4198-dc28-7c33593ee347"
   },
   "outputs": [
    {
     "data": {
      "text/plain": [
       "0.8850792991002367"
      ]
     },
     "execution_count": 34,
     "metadata": {},
     "output_type": "execute_result"
    }
   ],
   "source": [
    "cumvar[35]"
   ]
  },
  {
   "cell_type": "code",
   "execution_count": 35,
   "metadata": {
    "colab": {
     "base_uri": "https://localhost:8080/",
     "height": 217
    },
    "colab_type": "code",
    "id": "Z8MXQ1D0scJb",
    "outputId": "2d221cdd-375e-406b-84c5-3179dc6867a6"
   },
   "outputs": [
    {
     "data": {
      "text/html": [
       "<div>\n",
       "<style scoped>\n",
       "    .dataframe tbody tr th:only-of-type {\n",
       "        vertical-align: middle;\n",
       "    }\n",
       "\n",
       "    .dataframe tbody tr th {\n",
       "        vertical-align: top;\n",
       "    }\n",
       "\n",
       "    .dataframe thead th {\n",
       "        text-align: right;\n",
       "    }\n",
       "</style>\n",
       "<table border=\"1\" class=\"dataframe\">\n",
       "  <thead>\n",
       "    <tr style=\"text-align: right;\">\n",
       "      <th></th>\n",
       "      <th>PC1</th>\n",
       "      <th>PC2</th>\n",
       "      <th>PC3</th>\n",
       "      <th>PC4</th>\n",
       "      <th>PC5</th>\n",
       "      <th>PC6</th>\n",
       "      <th>PC7</th>\n",
       "      <th>PC8</th>\n",
       "      <th>PC9</th>\n",
       "      <th>PC10</th>\n",
       "      <th>...</th>\n",
       "      <th>PC26</th>\n",
       "      <th>PC27</th>\n",
       "      <th>PC28</th>\n",
       "      <th>PC29</th>\n",
       "      <th>PC30</th>\n",
       "      <th>PC31</th>\n",
       "      <th>PC32</th>\n",
       "      <th>PC33</th>\n",
       "      <th>PC34</th>\n",
       "      <th>PC35</th>\n",
       "    </tr>\n",
       "  </thead>\n",
       "  <tbody>\n",
       "    <tr>\n",
       "      <th>0</th>\n",
       "      <td>1.082157</td>\n",
       "      <td>-3.197403</td>\n",
       "      <td>1.416799</td>\n",
       "      <td>-2.128576</td>\n",
       "      <td>0.794921</td>\n",
       "      <td>-0.032605</td>\n",
       "      <td>-0.021152</td>\n",
       "      <td>-0.104399</td>\n",
       "      <td>1.391877</td>\n",
       "      <td>-0.485826</td>\n",
       "      <td>...</td>\n",
       "      <td>-0.850239</td>\n",
       "      <td>0.514253</td>\n",
       "      <td>-0.721604</td>\n",
       "      <td>-0.165025</td>\n",
       "      <td>-0.149025</td>\n",
       "      <td>-0.320648</td>\n",
       "      <td>-0.054975</td>\n",
       "      <td>1.363490</td>\n",
       "      <td>-0.330293</td>\n",
       "      <td>-0.844084</td>\n",
       "    </tr>\n",
       "    <tr>\n",
       "      <th>1</th>\n",
       "      <td>-2.046062</td>\n",
       "      <td>1.181714</td>\n",
       "      <td>-1.460144</td>\n",
       "      <td>1.090682</td>\n",
       "      <td>0.986275</td>\n",
       "      <td>0.073940</td>\n",
       "      <td>0.824098</td>\n",
       "      <td>0.083795</td>\n",
       "      <td>-0.873888</td>\n",
       "      <td>-1.949324</td>\n",
       "      <td>...</td>\n",
       "      <td>-1.844986</td>\n",
       "      <td>-0.568349</td>\n",
       "      <td>-0.061486</td>\n",
       "      <td>-0.095967</td>\n",
       "      <td>0.726449</td>\n",
       "      <td>-0.173887</td>\n",
       "      <td>0.472890</td>\n",
       "      <td>0.432070</td>\n",
       "      <td>-0.230725</td>\n",
       "      <td>-0.391088</td>\n",
       "    </tr>\n",
       "    <tr>\n",
       "      <th>2</th>\n",
       "      <td>0.043917</td>\n",
       "      <td>-2.317239</td>\n",
       "      <td>2.305621</td>\n",
       "      <td>-0.914054</td>\n",
       "      <td>-1.172443</td>\n",
       "      <td>-0.329090</td>\n",
       "      <td>0.427019</td>\n",
       "      <td>-0.464922</td>\n",
       "      <td>-1.435776</td>\n",
       "      <td>0.389333</td>\n",
       "      <td>...</td>\n",
       "      <td>0.688406</td>\n",
       "      <td>1.459506</td>\n",
       "      <td>-0.497424</td>\n",
       "      <td>0.725172</td>\n",
       "      <td>-0.507362</td>\n",
       "      <td>-1.045211</td>\n",
       "      <td>2.010000</td>\n",
       "      <td>1.738597</td>\n",
       "      <td>-0.101321</td>\n",
       "      <td>-0.234409</td>\n",
       "    </tr>\n",
       "    <tr>\n",
       "      <th>3</th>\n",
       "      <td>1.187569</td>\n",
       "      <td>2.782986</td>\n",
       "      <td>2.257115</td>\n",
       "      <td>-0.116350</td>\n",
       "      <td>4.270613</td>\n",
       "      <td>1.934985</td>\n",
       "      <td>-0.088762</td>\n",
       "      <td>-0.443202</td>\n",
       "      <td>-1.152752</td>\n",
       "      <td>2.655444</td>\n",
       "      <td>...</td>\n",
       "      <td>-0.143454</td>\n",
       "      <td>-1.016785</td>\n",
       "      <td>0.442327</td>\n",
       "      <td>0.612784</td>\n",
       "      <td>-0.155964</td>\n",
       "      <td>0.221144</td>\n",
       "      <td>-0.315698</td>\n",
       "      <td>0.236581</td>\n",
       "      <td>-0.378430</td>\n",
       "      <td>0.183735</td>\n",
       "    </tr>\n",
       "    <tr>\n",
       "      <th>4</th>\n",
       "      <td>3.320006</td>\n",
       "      <td>0.783071</td>\n",
       "      <td>1.719462</td>\n",
       "      <td>-1.520643</td>\n",
       "      <td>0.621341</td>\n",
       "      <td>1.081563</td>\n",
       "      <td>-0.930741</td>\n",
       "      <td>-1.235018</td>\n",
       "      <td>-3.484279</td>\n",
       "      <td>-0.972879</td>\n",
       "      <td>...</td>\n",
       "      <td>-1.299154</td>\n",
       "      <td>0.108081</td>\n",
       "      <td>1.376801</td>\n",
       "      <td>-0.246205</td>\n",
       "      <td>1.513928</td>\n",
       "      <td>0.396242</td>\n",
       "      <td>-1.092485</td>\n",
       "      <td>-0.486634</td>\n",
       "      <td>-0.607261</td>\n",
       "      <td>0.491395</td>\n",
       "    </tr>\n",
       "  </tbody>\n",
       "</table>\n",
       "<p>5 rows × 35 columns</p>\n",
       "</div>"
      ],
      "text/plain": [
       "        PC1       PC2       PC3       PC4       PC5       PC6       PC7  \\\n",
       "0  1.082157 -3.197403  1.416799 -2.128576  0.794921 -0.032605 -0.021152   \n",
       "1 -2.046062  1.181714 -1.460144  1.090682  0.986275  0.073940  0.824098   \n",
       "2  0.043917 -2.317239  2.305621 -0.914054 -1.172443 -0.329090  0.427019   \n",
       "3  1.187569  2.782986  2.257115 -0.116350  4.270613  1.934985 -0.088762   \n",
       "4  3.320006  0.783071  1.719462 -1.520643  0.621341  1.081563 -0.930741   \n",
       "\n",
       "        PC8       PC9      PC10  ...      PC26      PC27      PC28      PC29  \\\n",
       "0 -0.104399  1.391877 -0.485826  ... -0.850239  0.514253 -0.721604 -0.165025   \n",
       "1  0.083795 -0.873888 -1.949324  ... -1.844986 -0.568349 -0.061486 -0.095967   \n",
       "2 -0.464922 -1.435776  0.389333  ...  0.688406  1.459506 -0.497424  0.725172   \n",
       "3 -0.443202 -1.152752  2.655444  ... -0.143454 -1.016785  0.442327  0.612784   \n",
       "4 -1.235018 -3.484279 -0.972879  ... -1.299154  0.108081  1.376801 -0.246205   \n",
       "\n",
       "       PC30      PC31      PC32      PC33      PC34      PC35  \n",
       "0 -0.149025 -0.320648 -0.054975  1.363490 -0.330293 -0.844084  \n",
       "1  0.726449 -0.173887  0.472890  0.432070 -0.230725 -0.391088  \n",
       "2 -0.507362 -1.045211  2.010000  1.738597 -0.101321 -0.234409  \n",
       "3 -0.155964  0.221144 -0.315698  0.236581 -0.378430  0.183735  \n",
       "4  1.513928  0.396242 -1.092485 -0.486634 -0.607261  0.491395  \n",
       "\n",
       "[5 rows x 35 columns]"
      ]
     },
     "execution_count": 35,
     "metadata": {},
     "output_type": "execute_result"
    }
   ],
   "source": [
    "n_used = 35\n",
    "X_pca = np.dot(X_pca_norm.values, X_pca.components_[:n_used,:].T)\n",
    "X_pca = pd.DataFrame(X_pca, columns=[\"PC%d\" % (x + 1) for x in range(n_used)])\n",
    "X_pca.head()"
   ]
  },
  {
   "cell_type": "code",
   "execution_count": 36,
   "metadata": {
    "colab": {
     "base_uri": "https://localhost:8080/",
     "height": 141
    },
    "colab_type": "code",
    "id": "GK6Aru6ftvX3",
    "outputId": "4deab1fc-62b3-4da5-d2ae-e5f0b000dfed"
   },
   "outputs": [
    {
     "data": {
      "text/plain": [
       "0    0\n",
       "1    1\n",
       "2    0\n",
       "3    0\n",
       "4    1\n",
       "Name: risk, dtype: category\n",
       "Categories (2, int64): [0, 1]"
      ]
     },
     "execution_count": 36,
     "metadata": {},
     "output_type": "execute_result"
    }
   ],
   "source": [
    "Y.head()"
   ]
  },
  {
   "cell_type": "markdown",
   "metadata": {
    "colab_type": "text",
    "id": "J20Dlj6q80Gx"
   },
   "source": [
    "### Train and Test set for PCA model"
   ]
  },
  {
   "cell_type": "markdown",
   "metadata": {
    "colab_type": "text",
    "id": "hSYgGwRi82uV"
   },
   "source": [
    "In order to create a learning algorith able to classify instances, we need to create a training set $S$, sampled from the entire dataset $D$, and to train our model triyng to minimize the training error.\n",
    "This approach is based on the *Empirical Risk Minimization paradigm*, a learning paradigm that starts from the idea that, if S is representative of $D$, minimizing the error on $S$ we are also minimizing the error on $D$.\n",
    "Let's define the error on $S$, given an hypotesis $h$, as:\\\n",
    "$$ L_s(h) =\\frac{ \\{ |i  \\in [m] : h(x_i) \\ne y_i   \\}  }{m} $$\n",
    "where:\n",
    "*  $m$ is the training size\n",
    "*  $h(x_i)$ is the predicted label\n",
    "*  $y_i$ is the true label\n",
    "\n",
    "At each step $i$, the loss is calculated and the hypotesis $h$ is changed in order to minimize $L_s(h)$.\n",
    "\n",
    "In order to create a training set $S$ that represent the entire set $D$, let's define a set that preserve the proportionality among classes (defined by the parameter *stratify*). \n",
    "\n",
    "Then, the algorithm trained so far will be tested on the other part of the dataset $D$, the test set.\n",
    "\n",
    "To approach our problem in this way, however, we need to manually select each algorithm that we want to analyze.\n",
    "In order to choose the best algorithm (refering to the algorithm itself or the tuned hyperparameters of the algorithm), we need to do a *model selection*: by looking at all the hypothesis $h$, we want the one that best performs on our data.\n",
    "\n",
    "A very accurate estimation of the true risk can be obtained using both train and validation set: the first for constructing the model and the second to select the best model among all the proposed.\n",
    "\n",
    "Validation can be naturally used for model selection as follows:\n",
    "* train the algorith on the training set and construct $H = {h_1,...,h_d}$\n",
    "* choose a single predictor $h_s$ from $H$: the one that minimizes the error over the validation set\n",
    "* use $h_s$ on the test set\n",
    "\n",
    "In other words, we are applying a *ERM* approach to the validation set instead of to the training set."
   ]
  },
  {
   "cell_type": "code",
   "execution_count": 37,
   "metadata": {
    "colab": {},
    "colab_type": "code",
    "id": "3fIO65LEBenM"
   },
   "outputs": [],
   "source": [
    "X, X_test, y, y_test = train_test_split(X_pca, Y, test_size=0.3, stratify = Y)\n",
    "X_val, X_train, y_val, y_train = train_test_split(X, y, test_size=0.57, stratify = y)"
   ]
  },
  {
   "cell_type": "markdown",
   "metadata": {
    "colab_type": "text",
    "id": "VpSb8t5Aoql9"
   },
   "source": [
    "### Data Augmentation"
   ]
  },
  {
   "cell_type": "markdown",
   "metadata": {
    "colab_type": "text",
    "id": "E6VTJz2-IkHI"
   },
   "source": [
    "Resampling involves creating a new transformed version of the training dataset in which the selected examples have a different class distribution.\n",
    "\n",
    "This is a simple and effective strategy for imbalanced classification problems.\n",
    "\n",
    "The dataset that we are analyzing are not really imbalanced; as we can see in the next box, the proportion between two categories is 7:3:"
   ]
  },
  {
   "cell_type": "code",
   "execution_count": 38,
   "metadata": {
    "colab": {
     "base_uri": "https://localhost:8080/",
     "height": 70
    },
    "colab_type": "code",
    "id": "19ViG_j6Ik__",
    "outputId": "ad4413d3-74b6-47e7-d23a-ac52bd939ff7"
   },
   "outputs": [
    {
     "data": {
      "text/plain": [
       "0    700\n",
       "1    300\n",
       "Name: risk, dtype: int64"
      ]
     },
     "execution_count": 38,
     "metadata": {},
     "output_type": "execute_result"
    }
   ],
   "source": [
    "df['risk'].value_counts()"
   ]
  },
  {
   "cell_type": "markdown",
   "metadata": {
    "colab_type": "text",
    "id": "MrRRH4OjTsrZ"
   },
   "source": [
    "But it could be intresting to ses a comparization of the performances of different classifiers between the original dataset and an oversampled-one, more balanced that the current one."
   ]
  },
  {
   "cell_type": "code",
   "execution_count": 39,
   "metadata": {
    "colab": {
     "base_uri": "https://localhost:8080/",
     "height": 52
    },
    "colab_type": "code",
    "id": "YUeYgnUVTmNm",
    "outputId": "7ce988d3-8cc2-4770-e14c-28121fc1fd28"
   },
   "outputs": [
    {
     "name": "stdout",
     "output_type": "stream",
     "text": [
      "Oversampling on X generate a dataset of  (560, 35) istances, while the original dataset had  (399, 35)  instances\n",
      "The new dataset has 279 elements for riks = good, and 281 elements for riks = bad\n"
     ]
    }
   ],
   "source": [
    "X_ADASYN, y_ADASYN = ADASYN().fit_resample(X_train, y_train)\n",
    "print(\"Oversampling on X generate a dataset of \", X_ADASYN.shape, \"istances, while the original dataset had \", X_train.shape, \" instances\")\n",
    "print( 'The new dataset has' , np.count_nonzero(y_ADASYN == 0), 'elements for riks = good, and', np.count_nonzero(y_ADASYN == 1), 'elements for riks = bad')"
   ]
  },
  {
   "cell_type": "code",
   "execution_count": 40,
   "metadata": {
    "colab": {
     "base_uri": "https://localhost:8080/",
     "height": 52
    },
    "colab_type": "code",
    "id": "6HTTj_pIZHeA",
    "outputId": "668f642a-bed8-414a-844a-934c8931bcc4"
   },
   "outputs": [
    {
     "name": "stdout",
     "output_type": "stream",
     "text": [
      "Oversampling on X generate a dataset of  (558, 35) istances, while the original dataset had  (399, 35)  instances\n",
      "The new dataset has 279 elements for riks = good, and 279 elements for riks = bad\n"
     ]
    }
   ],
   "source": [
    "X_SMOTE, y_SMOTE = SMOTE().fit_resample(X_train, y_train)\n",
    "print(\"Oversampling on X generate a dataset of \", X_SMOTE.shape, \"istances, while the original dataset had \", X_train.shape, \" instances\")\n",
    "print( 'The new dataset has' , np.count_nonzero(y_SMOTE == 0), 'elements for riks = good, and', np.count_nonzero(y_SMOTE == 1), 'elements for riks = bad')"
   ]
  },
  {
   "cell_type": "markdown",
   "metadata": {
    "colab_type": "text",
    "id": "CPJ3qvt0XJn7"
   },
   "source": [
    "So we can apply different classification algorithms both to **X**, **X_ADASYN** and **X_SMOTE** and find the one that has the best performance."
   ]
  },
  {
   "cell_type": "markdown",
   "metadata": {
    "colab_type": "text",
    "id": "-eehYfLxWpnZ"
   },
   "source": [
    "## Features Selection"
   ]
  },
  {
   "cell_type": "markdown",
   "metadata": {
    "colab_type": "text",
    "id": "o_AxTjksbx6B"
   },
   "source": [
    "Feature selection is the process of reducing the number of input variables when developing a predictive model.\n",
    "It is desirable to reduce the number of input variables to both reduce the computational cost of modeling and, in some cases, to improve the performance of the model.\n",
    "\n",
    "By looking at our dataset, we can see that we have both qualitative and quantitative predictors\n",
    "\n",
    "So we can use an ***Anova F-Test*** test in order to select the best features.\n"
   ]
  },
  {
   "cell_type": "code",
   "execution_count": 41,
   "metadata": {
    "colab": {},
    "colab_type": "code",
    "id": "mFGu0LdAb-74"
   },
   "outputs": [],
   "source": [
    "kbest = SelectKBest(f_classif)"
   ]
  },
  {
   "cell_type": "markdown",
   "metadata": {
    "colab_type": "text",
    "id": "ELLY75C1fuYP"
   },
   "source": [
    "### K-fold Cross Validation"
   ]
  },
  {
   "cell_type": "markdown",
   "metadata": {
    "colab_type": "text",
    "id": "NkCyT-zaYYN9"
   },
   "source": [
    "In the PCA approach, select the number of selected PC for the model is easy: by looking at the cumulative variances we have an immediate way to evaluate how good the model is.\n",
    "\n",
    "But, in features selection, there is a different approach:\n",
    "we need to set a priori the hyperparameter K and we can evaluate how good the model performs only when the classification models gives its results.\n",
    "\n",
    "And also the hyperparametes of the classification models need to be tuned. So, at each step, we need to define both K and model hyperparameters.\n",
    "\n",
    "\n",
    "A good approach, in this case, can be to use a K_Fold Cross-Validation model:\n",
    "the original dataset is divided in $k$ partitions having $\\frac{n}{k}$ elements, where $n$ is the size of the original dataset.\n",
    "At each step, the $i^{th}$ partition is used as training set and the others $k - 1$ are concatenated and used as validation set.\n",
    "The model is trained on the training set, and validate on the validation set and the final score for the model is the average mean squared error:\\\n",
    "$CV_{(k)} = \\frac{1}{k} \\cdot \\sum_{i = 1}^{k} {MSE_i}$, where $MSE_i = | Y_i - \\hat{Y_i} |^2$ \\\n",
    "being $\\hat{Y_i}$ the predictor of $Y_i$ using all the other observations.\n",
    "\n",
    "The k-fold procedure is done many times and, at each iteration, the model uses a different set of parameters from the grid and, finally, the model providing the best score is selected as the best one and the entire dataset is re-trained by using those hyperparameters.\\\n",
    "In the categorical case, as the one analized here, the error is computed as:\\\n",
    "$CV_{(n)} = \\frac{1}{n} \\sum_{i = 1}^{n} {Err_i}$, where $ Err_i = I(y_i \\neq \\hat{y_i})$"
   ]
  },
  {
   "cell_type": "code",
   "execution_count": 42,
   "metadata": {
    "colab": {},
    "colab_type": "code",
    "id": "4j4ZY56TMOo1"
   },
   "outputs": [],
   "source": [
    "Xfs = oneHotDF.copy()\n",
    "Xfs_train, Xfs_test, yfs_train, yfs_test = train_test_split(Xfs, Y, test_size=0.3, stratify = Y)"
   ]
  },
  {
   "cell_type": "markdown",
   "metadata": {
    "colab_type": "text",
    "id": "YLOC_-OxigUy"
   },
   "source": [
    "### Data Augmentation"
   ]
  },
  {
   "cell_type": "markdown",
   "metadata": {
    "colab_type": "text",
    "id": "YNlQ7dTAiirb"
   },
   "source": [
    "The same approach used for the PCA section is used here:"
   ]
  },
  {
   "cell_type": "code",
   "execution_count": 43,
   "metadata": {
    "colab": {
     "base_uri": "https://localhost:8080/",
     "height": 52
    },
    "colab_type": "code",
    "id": "bIBvALBVivTX",
    "outputId": "c9a480cb-99ad-4a75-ca19-83f517f766a3"
   },
   "outputs": [
    {
     "name": "stdout",
     "output_type": "stream",
     "text": [
      "Oversampling on X generate a dataset of  (1000, 59) istances, while the original dataset had  (700, 59)  instances\n",
      "The new dataset has 490 elements for riks = good, and 510 elements for riks = bad\n"
     ]
    }
   ],
   "source": [
    "Xfs_ADASYN, yfs_ADASYN = ADASYN().fit_resample(Xfs_train, yfs_train)\n",
    "print(\"Oversampling on X generate a dataset of \", Xfs_ADASYN.shape, \"istances, while the original dataset had \", Xfs_train.shape, \" instances\")\n",
    "print( 'The new dataset has' , np.count_nonzero(yfs_ADASYN == 0), 'elements for riks = good, and', np.count_nonzero(yfs_ADASYN == 1), 'elements for riks = bad')"
   ]
  },
  {
   "cell_type": "code",
   "execution_count": 44,
   "metadata": {
    "colab": {
     "base_uri": "https://localhost:8080/",
     "height": 52
    },
    "colab_type": "code",
    "id": "-9_EIq7NZybV",
    "outputId": "43525e3a-79e3-4cef-efe5-18fa10ef4e7e"
   },
   "outputs": [
    {
     "name": "stdout",
     "output_type": "stream",
     "text": [
      "Oversampling on X generate a dataset of  (980, 59) istances, while the original dataset had  (700, 59)  instances\n",
      "The new dataset has 490 elements for riks = good, and 490 elements for riks = bad\n"
     ]
    }
   ],
   "source": [
    "Xfs_SMOTE, yfs_SMOTE = SMOTE().fit_resample(Xfs_train, yfs_train)\n",
    "print(\"Oversampling on X generate a dataset of \", Xfs_SMOTE.shape, \"istances, while the original dataset had \", Xfs_train.shape, \" instances\")\n",
    "print( 'The new dataset has' , np.count_nonzero(yfs_SMOTE == 0), 'elements for riks = good, and', np.count_nonzero(yfs_SMOTE == 1), 'elements for riks = bad')"
   ]
  },
  {
   "cell_type": "markdown",
   "metadata": {
    "colab_type": "text",
    "id": "BICNvmvRi_IQ"
   },
   "source": [
    "# Classification Algorithms"
   ]
  },
  {
   "cell_type": "markdown",
   "metadata": {
    "colab_type": "text",
    "id": "S27ueNsMJ1I8"
   },
   "source": [
    "After having defined all the different datasets, let's start with the classification task: this is the problem of assigning a category to each item.\n",
    "\n",
    "In order to compare models and find the one that performs better, it's needed to define which metrics will be used to evaluate performances.\n",
    "\n",
    "Let: $TP$ = True positives, $TN$ = True negative, $FP$ = False positive, $FN$ = False negative.\n",
    "\n",
    "Accuracy = $\\frac{TP + TN}{TP+TN + FP + FN} = \\frac{\\text{Number of correct predictions}}{\\text{Total number of predictions}}$\n",
    "\n",
    "Precision = $\\frac{\\text{TP}}{\\text{TP + FP}}$\n",
    "\n",
    "Sensitivity = $\\frac{\\text{TP}}{\\text{TP + FN}}$\n",
    "\n",
    "\n",
    "F1 Score = $2 \\cdot \\frac{\\text{Precision}\\cdot \\text{Sensitivity}}{\\text{Precision + Sensitivity}} $\n",
    "\n",
    "\n"
   ]
  },
  {
   "cell_type": "code",
   "execution_count": 45,
   "metadata": {
    "colab": {},
    "colab_type": "code",
    "id": "aAy_AFWjRay_"
   },
   "outputs": [],
   "source": [
    "binary_metricsPCA = pd.DataFrame(columns=[\"Accuracy\", \"Precision\", \"Sensitivity\", \"F1 Score\"])\n",
    "binary_metricsFS = pd.DataFrame(columns=[\"Accuracy\", \"Precision\", \"Sensitivity\", \"F1 Score\"])\n",
    "binary_metricsORIG = pd.DataFrame(columns=[\"Accuracy\", \"Precision\", \"Sensitivity\", \"F1 Score\"])"
   ]
  },
  {
   "cell_type": "markdown",
   "metadata": {
    "colab_type": "text",
    "id": "wSUgNAkozzrk"
   },
   "source": [
    "## Theory overview"
   ]
  },
  {
   "cell_type": "markdown",
   "metadata": {
    "colab_type": "text",
    "id": "sprGzk3ty2gN"
   },
   "source": [
    "### SVM Method"
   ]
  },
  {
   "cell_type": "markdown",
   "metadata": {
    "colab_type": "text",
    "id": "Svj8xeRPNPmb"
   },
   "source": [
    "The basic Support-Vector Machine (SVM) model is linear: it finds the optimal hyperplane between the points of two classes such that the distance of the nearest points to the decision boundary is maximized.\n",
    "\n",
    "Clearly, it is not common to have a linear separation and SVM can be generalized.\n",
    "\n",
    "This generalization can be made by choosing a non-linear Kernel function to apply to the support vector machine.\n",
    "\n",
    "Linear support vector machine generally uses as linear kernel:$$ k({\\vec{x_i}},{\\vec{x_{j}}})={\\vec{x_{i}}}\\cdot{\\vec{x_{j}}}$$\n",
    "\n",
    "Probably the common non-lineare alternative is the Radial basis kernel:$${k({\\vec{x_i},\\vec{x_{j}}})=\\exp(-\\gamma \\|{\\vec {x_{i}}}-{\\vec {x_{j}}}\\|^{2})}$$where $\\gamma \\gt0$ is a parameter to chose. This is in fact the default kernel function in the library.\n",
    "\n",
    "Basically, the kernel maps the data into another space in which the class can be linearly separated, while in the original space, the boundary will in general be non linear."
   ]
  },
  {
   "cell_type": "markdown",
   "metadata": {
    "colab_type": "text",
    "id": "4idUZU3Py8as"
   },
   "source": [
    "### KNN Method"
   ]
  },
  {
   "cell_type": "markdown",
   "metadata": {
    "colab_type": "text",
    "id": "ivpguejedZkV"
   },
   "source": [
    "K-Nearest-Neighbors is one of the simplest classification algorithm in supervised learning. The core idea for KNN is that the features that are used to describe the domain points determinates their classification label. So, features from the same classes need to have similar features. But if we project the domain points in the hyper-space of the features, elements with similar features (and so belonging to the same class) are closer one to each other.\n",
    "So, the KNN algorithm assigned to a point the label of the closest point(s).\n",
    "This algorithm has onehyper-parameter:  the value of $k$, that define the number of neighbors to consider in order to have the classification: $k \\in \\mathbb{N}$.\n",
    "\n",
    "$k$ must be an odd number in order to avoid uncertain classification in case of binary classification.\n",
    "\n",
    "The concept of \"close\" is related to the concept of distance. KNN algorithm use an Euclidean Distances defined as:\n",
    "\n",
    "$\\rho(x, x') = || x - x' || = \\sqrt{ \\sum_{i=1}^{d}{(x_i - x_i')^2}}$"
   ]
  },
  {
   "cell_type": "markdown",
   "metadata": {
    "colab_type": "text",
    "id": "BHVFg1wvy9_c"
   },
   "source": [
    "### Logistic Regression Method"
   ]
  },
  {
   "cell_type": "markdown",
   "metadata": {
    "colab_type": "text",
    "id": "SdOOIuXojgTY"
   },
   "source": [
    "The logistic regression in a generalization of linear regression that allow to solve binary classification problems. In order to execute this generalization, the steps are:\n",
    "* substitute the normal distribution for error with a Bernoulli Distribution:\n",
    "$p(y|\\hat{x},\\hat{w}) = Ber(y| \\mu(\\hat{x}) ) $, where $\\mu(x)$ = $p(y=1| \\hat{x})$\n",
    "* coumpute a linear combination of inputs in order to be shure that $0 \\leq \\mu({\\hat{x}}) \\leq 1$ by using a **sigmoid**, that has the following shape:\n",
    "\n",
    "![Sigmoid function](https://upload.wikimedia.org/wikipedia/commons/5/53/Sigmoid-function-2.svg)\n",
    "\n"
   ]
  },
  {
   "cell_type": "markdown",
   "metadata": {
    "colab_type": "text",
    "id": "bnGTpx-NzB0w"
   },
   "source": [
    "### Decision Trees"
   ]
  },
  {
   "cell_type": "markdown",
   "metadata": {
    "colab_type": "text",
    "id": "2Hdf7Nxfm-NP"
   },
   "source": [
    "A decision tree is a predictor $h : H \\to Y$, that predicts the label associated to an instance of $x$ by travelling from the root to the leaf of a tree in which nodes represent features and edges are values.\n",
    "\n",
    "Usually the decision tree learning algorithm are based on a greedy approach: the tree is constructed gradually and at each step the decision is taken by analize the local optimal decision. So it's not guarantee a global optimal tree.\n",
    "\n",
    "The model starts with a single leaf, the root. The leaf recives as lable the one according to the majority vote among all labels over the training set. Then, in a set of iterations, the algorithm examinates the possibility of split each leaf and evaluate the gain in splitting it.\n",
    "Among all the possibile splits, the one that gave the best gain is choosen"
   ]
  },
  {
   "cell_type": "markdown",
   "metadata": {},
   "source": [
    "### XGBoost"
   ]
  },
  {
   "cell_type": "markdown",
   "metadata": {},
   "source": [
    "The idea of boosting approach in machine learning is to create highly accurate predictions by combining many low-accurate rules.\n",
    "\n",
    "Boosting assumes the availability of a base or weak classifier (often small decision trees) which it will see as a ”black-box” and that can be called repeatedly. This classification algorithm has to be at least better than taking random predictions (weak learning assumption). A boosting algorithm learns by repeatedly calling the base learning algorithm, but if this always works with the same data and in the same way, we can’t expect anything interesting. The key idea is to choose training sets for the base classifier in such a way to infer something new each time it is called.\n",
    "\n",
    "XGBoost stands for ”eXtreme Gradient Boosting”. It is a scalable, fast and well-performing tree boosting system, widely used in the data science community. It is designed for optimizing computational resources as it performs different optimization improvements which make it better than other boosting technique."
   ]
  },
  {
   "cell_type": "markdown",
   "metadata": {
    "colab_type": "text",
    "id": "jueZjtLbzt0R"
   },
   "source": [
    "## PCA"
   ]
  },
  {
   "cell_type": "code",
   "execution_count": 46,
   "metadata": {
    "colab": {},
    "colab_type": "code",
    "id": "egHuXqpwyj8I"
   },
   "outputs": [],
   "source": [
    "PCAparams = {\n",
    "    'SVM' : {'C' : np.logspace(0, 4, 5) },\n",
    "    'KNN' : {'n_neighbors' : [5,7,9,11] },\n",
    "    'LR' : {'solver' : ['newton-cg', 'lbfgs', 'liblinear'] },\n",
    "    'GiniTREE' : {'max_depth': np.arange(5, 20) },\n",
    "    'XGB' : {'max_depth': np.arange(3,7),'n_estimators': 10**np.array([1,2,3])}\n",
    "}\n",
    "\n",
    "PCAmethods = {\n",
    "    'SVM' : svm.SVC(kernel = \"rbf\", random_state = SEED),\n",
    "    'KNN' : KNeighborsClassifier(),\n",
    "    'LR' :  LogisticRegression(max_iter = 10000, random_state = SEED, solver = 'lbfgs'),\n",
    "    'GiniTREE' : DecisionTreeClassifier(criterion = 'gini', random_state = SEED),\n",
    "    'XGB' : xgb.XGBClassifier(objective='binary:logistic', eval_metric='logloss', random_state = SEED)\n",
    "}"
   ]
  },
  {
   "cell_type": "code",
   "execution_count": 47,
   "metadata": {
    "colab": {},
    "colab_type": "code",
    "id": "O-QRkhgG7Trq"
   },
   "outputs": [],
   "source": [
    "def TrainFunction(methodName, paramName, dataset = 'original'):\n",
    "  scaler = StandardScaler()\n",
    "  if(dataset == 'original'):\n",
    "    scal_X_train = scaler.fit_transform(X_train)\n",
    "    x_train = scal_X_train\n",
    "    Y = y_train\n",
    "  elif(dataset == 'adasyn'):\n",
    "    scal_X_train = scaler.fit_transform(X_ADASYN)\n",
    "    x_train = scal_X_train\n",
    "    Y = y_ADASYN\n",
    "  elif(dataset == 'smote'):\n",
    "    scal_X_train = scaler.fit_transform(X_SMOTE)\n",
    "    x_train = scal_X_train\n",
    "    Y = y_SMOTE\n",
    "  \n",
    "  method = PCAmethods[methodName]\n",
    "  best_score = 0\n",
    "\n",
    "  for p in PCAparams[methodName].get(paramName):\n",
    "    params = {paramName : p}\n",
    "    model = method.set_params(**params).fit(x_train, Y)\n",
    "    y_pred = model.predict(X_val)\n",
    "\n",
    "    cr = classification_report(y_val, y_pred, output_dict=True)\n",
    "    #print('Accuracy for', paramName, ' = ', p, ' = ',cr['accuracy'])\n",
    "    #print('Weighted precision = ', cr['weighted avg'])\n",
    "    if( cr['weighted avg']['f1-score'] > best_score):\n",
    "      best_score = cr['weighted avg']['f1-score']\n",
    "      bestP = p\n",
    "\n",
    "  params = {paramName : bestP}\n",
    "  newX_train = np.concatenate( (x_train, X_val), axis=0)\n",
    "  newY_train = np.concatenate( (Y, y_val), axis=0)\n",
    "  model = method.set_params(**params).fit(newX_train, newY_train)\n",
    "\n",
    "  y_pred = model.predict(X_test)\n",
    "  cr = classification_report(y_test, y_pred, output_dict=True)\n",
    "  binary_metricsPCA.loc[dataset + '_' + methodName] = [cr['accuracy'], cr['weighted avg']['precision'], cr['weighted avg']['recall'], cr['weighted avg']['f1-score']]\n",
    "  print('Accuracy for', paramName, ' = ', bestP, ' = ',cr['accuracy'])\n",
    "  print('Weighted precision = ', cr['weighted avg'])"
   ]
  },
  {
   "cell_type": "code",
   "execution_count": 48,
   "metadata": {
    "colab": {
     "base_uri": "https://localhost:8080/",
     "height": 158
    },
    "colab_type": "code",
    "id": "3FB_5Ff2-sYh",
    "outputId": "f9a39265-8b8b-46cd-a504-b63e665d49ef"
   },
   "outputs": [
    {
     "name": "stdout",
     "output_type": "stream",
     "text": [
      "> Training: SVM\n",
      "Accuracy for C  =  1.0  =  0.7733333333333333\n",
      "Weighted precision =  {'precision': 0.7674084217733652, 'recall': 0.7733333333333333, 'f1-score': 0.7474137931034482, 'support': 300}\n",
      "> Training: KNN\n",
      "Accuracy for n_neighbors  =  7  =  0.69\n",
      "Weighted precision =  {'precision': 0.6606237816764132, 'recall': 0.69, 'f1-score': 0.6664954723611299, 'support': 300}\n",
      "> Training: LR\n",
      "Accuracy for solver  =  liblinear  =  0.7633333333333333\n",
      "Weighted precision =  {'precision': 0.7585308977846871, 'recall': 0.7633333333333333, 'f1-score': 0.7604851700938121, 'support': 300}\n",
      "> Training: GiniTREE\n",
      "Accuracy for max_depth  =  10  =  0.6833333333333333\n",
      "Weighted precision =  {'precision': 0.694835563958406, 'recall': 0.6833333333333333, 'f1-score': 0.6881936532725713, 'support': 300}\n",
      "> Training: XGB\n",
      "Accuracy for n_estimators  =  100  =  0.7833333333333333\n",
      "Weighted precision =  {'precision': 0.7736497545008183, 'recall': 0.7833333333333333, 'f1-score': 0.7719463573758609, 'support': 300}\n"
     ]
    }
   ],
   "source": [
    "algs = ['SVM', 'KNN', 'LR', 'GiniTREE', 'XGB']\n",
    "paramNames = ['C', 'n_neighbors', 'solver', 'max_depth', 'n_estimators']\n",
    "for name, paramName in zip(algs, paramNames):\n",
    "    print('> Training: ' + name)\n",
    "    TrainFunction(name, paramName)"
   ]
  },
  {
   "cell_type": "code",
   "execution_count": 49,
   "metadata": {
    "colab": {
     "base_uri": "https://localhost:8080/",
     "height": 158
    },
    "colab_type": "code",
    "id": "WNvFhtdOSf0b",
    "outputId": "51702b27-4c66-4a86-a02f-1d078ba93d5a"
   },
   "outputs": [
    {
     "name": "stdout",
     "output_type": "stream",
     "text": [
      "> Training: SVM\n",
      "Accuracy for C  =  1.0  =  0.74\n",
      "Weighted precision =  {'precision': 0.7247086247086247, 'recall': 0.74, 'f1-score': 0.727027027027027, 'support': 300}\n",
      "> Training: KNN\n",
      "Accuracy for n_neighbors  =  5  =  0.6233333333333333\n",
      "Weighted precision =  {'precision': 0.6890539274722335, 'recall': 0.6233333333333333, 'f1-score': 0.638883609615317, 'support': 300}\n",
      "> Training: LR\n",
      "Accuracy for solver  =  newton-cg  =  0.7166666666666667\n",
      "Weighted precision =  {'precision': 0.7616619067047463, 'recall': 0.7166666666666667, 'f1-score': 0.7273936648329918, 'support': 300}\n",
      "> Training: GiniTREE\n",
      "Accuracy for max_depth  =  11  =  0.6566666666666666\n",
      "Weighted precision =  {'precision': 0.6734798534798534, 'recall': 0.6566666666666666, 'f1-score': 0.6635137701804368, 'support': 300}\n",
      "> Training: XGB\n",
      "Accuracy for n_estimators  =  1000  =  0.7433333333333333\n",
      "Weighted precision =  {'precision': 0.7317784080622775, 'recall': 0.7433333333333333, 'f1-score': 0.7349412474905588, 'support': 300}\n"
     ]
    }
   ],
   "source": [
    "algs = ['SVM', 'KNN', 'LR', 'GiniTREE', 'XGB']\n",
    "paramNames = ['C', 'n_neighbors', 'solver', 'max_depth', 'n_estimators']\n",
    "for name, paramName in zip(algs, paramNames):\n",
    "    print('> Training: ' + name)\n",
    "    TrainFunction( name, paramName, dataset = 'adasyn')"
   ]
  },
  {
   "cell_type": "code",
   "execution_count": 50,
   "metadata": {
    "colab": {
     "base_uri": "https://localhost:8080/",
     "height": 158
    },
    "colab_type": "code",
    "id": "vVAasnY-aFNL",
    "outputId": "3326f65e-f74b-4945-f0fe-531e9e705eb8"
   },
   "outputs": [
    {
     "name": "stdout",
     "output_type": "stream",
     "text": [
      "> Training: SVM\n",
      "Accuracy for C  =  1.0  =  0.74\n",
      "Weighted precision =  {'precision': 0.7247086247086247, 'recall': 0.74, 'f1-score': 0.727027027027027, 'support': 300}\n",
      "> Training: KNN\n",
      "Accuracy for n_neighbors  =  5  =  0.63\n",
      "Weighted precision =  {'precision': 0.6925555208007507, 'recall': 0.63, 'f1-score': 0.6451511905742771, 'support': 300}\n",
      "> Training: LR\n",
      "Accuracy for solver  =  newton-cg  =  0.7066666666666667\n",
      "Weighted precision =  {'precision': 0.747783251231527, 'recall': 0.7066666666666667, 'f1-score': 0.717361111111111, 'support': 300}\n",
      "> Training: GiniTREE\n",
      "Accuracy for max_depth  =  9  =  0.6433333333333333\n",
      "Weighted precision =  {'precision': 0.6751996637242539, 'recall': 0.6433333333333333, 'f1-score': 0.6543422945016042, 'support': 300}\n",
      "> Training: XGB\n",
      "Accuracy for n_estimators  =  100  =  0.7433333333333333\n",
      "Weighted precision =  {'precision': 0.7307398979027, 'recall': 0.7433333333333333, 'f1-score': 0.7337426958502526, 'support': 300}\n"
     ]
    }
   ],
   "source": [
    "algs = ['SVM', 'KNN', 'LR', 'GiniTREE', 'XGB']\n",
    "paramNames = ['C', 'n_neighbors', 'solver', 'max_depth', 'n_estimators']\n",
    "for name, paramName in zip(algs, paramNames):\n",
    "    print('> Training: ' + name)\n",
    "    TrainFunction( name, paramName, dataset = 'smote')"
   ]
  },
  {
   "cell_type": "code",
   "execution_count": 51,
   "metadata": {
    "colab": {
     "base_uri": "https://localhost:8080/",
     "height": 407
    },
    "colab_type": "code",
    "id": "RHTXJ3LxTMrS",
    "outputId": "35eab944-f0fd-4dfb-ba75-204064d403f0"
   },
   "outputs": [
    {
     "data": {
      "text/html": [
       "<div>\n",
       "<style scoped>\n",
       "    .dataframe tbody tr th:only-of-type {\n",
       "        vertical-align: middle;\n",
       "    }\n",
       "\n",
       "    .dataframe tbody tr th {\n",
       "        vertical-align: top;\n",
       "    }\n",
       "\n",
       "    .dataframe thead th {\n",
       "        text-align: right;\n",
       "    }\n",
       "</style>\n",
       "<table border=\"1\" class=\"dataframe\">\n",
       "  <thead>\n",
       "    <tr style=\"text-align: right;\">\n",
       "      <th></th>\n",
       "      <th>Accuracy</th>\n",
       "      <th>Precision</th>\n",
       "      <th>Sensitivity</th>\n",
       "      <th>F1 Score</th>\n",
       "    </tr>\n",
       "  </thead>\n",
       "  <tbody>\n",
       "    <tr>\n",
       "      <th>original_XGB</th>\n",
       "      <td>0.783333</td>\n",
       "      <td>0.773650</td>\n",
       "      <td>0.783333</td>\n",
       "      <td>0.771946</td>\n",
       "    </tr>\n",
       "    <tr>\n",
       "      <th>original_LR</th>\n",
       "      <td>0.763333</td>\n",
       "      <td>0.758531</td>\n",
       "      <td>0.763333</td>\n",
       "      <td>0.760485</td>\n",
       "    </tr>\n",
       "    <tr>\n",
       "      <th>original_SVM</th>\n",
       "      <td>0.773333</td>\n",
       "      <td>0.767408</td>\n",
       "      <td>0.773333</td>\n",
       "      <td>0.747414</td>\n",
       "    </tr>\n",
       "    <tr>\n",
       "      <th>adasyn_XGB</th>\n",
       "      <td>0.743333</td>\n",
       "      <td>0.731778</td>\n",
       "      <td>0.743333</td>\n",
       "      <td>0.734941</td>\n",
       "    </tr>\n",
       "    <tr>\n",
       "      <th>smote_XGB</th>\n",
       "      <td>0.743333</td>\n",
       "      <td>0.730740</td>\n",
       "      <td>0.743333</td>\n",
       "      <td>0.733743</td>\n",
       "    </tr>\n",
       "    <tr>\n",
       "      <th>adasyn_LR</th>\n",
       "      <td>0.716667</td>\n",
       "      <td>0.761662</td>\n",
       "      <td>0.716667</td>\n",
       "      <td>0.727394</td>\n",
       "    </tr>\n",
       "    <tr>\n",
       "      <th>adasyn_SVM</th>\n",
       "      <td>0.740000</td>\n",
       "      <td>0.724709</td>\n",
       "      <td>0.740000</td>\n",
       "      <td>0.727027</td>\n",
       "    </tr>\n",
       "    <tr>\n",
       "      <th>smote_SVM</th>\n",
       "      <td>0.740000</td>\n",
       "      <td>0.724709</td>\n",
       "      <td>0.740000</td>\n",
       "      <td>0.727027</td>\n",
       "    </tr>\n",
       "    <tr>\n",
       "      <th>smote_LR</th>\n",
       "      <td>0.706667</td>\n",
       "      <td>0.747783</td>\n",
       "      <td>0.706667</td>\n",
       "      <td>0.717361</td>\n",
       "    </tr>\n",
       "    <tr>\n",
       "      <th>original_GiniTREE</th>\n",
       "      <td>0.683333</td>\n",
       "      <td>0.694836</td>\n",
       "      <td>0.683333</td>\n",
       "      <td>0.688194</td>\n",
       "    </tr>\n",
       "    <tr>\n",
       "      <th>original_KNN</th>\n",
       "      <td>0.690000</td>\n",
       "      <td>0.660624</td>\n",
       "      <td>0.690000</td>\n",
       "      <td>0.666495</td>\n",
       "    </tr>\n",
       "    <tr>\n",
       "      <th>adasyn_GiniTREE</th>\n",
       "      <td>0.656667</td>\n",
       "      <td>0.673480</td>\n",
       "      <td>0.656667</td>\n",
       "      <td>0.663514</td>\n",
       "    </tr>\n",
       "    <tr>\n",
       "      <th>smote_GiniTREE</th>\n",
       "      <td>0.643333</td>\n",
       "      <td>0.675200</td>\n",
       "      <td>0.643333</td>\n",
       "      <td>0.654342</td>\n",
       "    </tr>\n",
       "    <tr>\n",
       "      <th>smote_KNN</th>\n",
       "      <td>0.630000</td>\n",
       "      <td>0.692556</td>\n",
       "      <td>0.630000</td>\n",
       "      <td>0.645151</td>\n",
       "    </tr>\n",
       "    <tr>\n",
       "      <th>adasyn_KNN</th>\n",
       "      <td>0.623333</td>\n",
       "      <td>0.689054</td>\n",
       "      <td>0.623333</td>\n",
       "      <td>0.638884</td>\n",
       "    </tr>\n",
       "  </tbody>\n",
       "</table>\n",
       "</div>"
      ],
      "text/plain": [
       "                   Accuracy  Precision  Sensitivity  F1 Score\n",
       "original_XGB       0.783333   0.773650     0.783333  0.771946\n",
       "original_LR        0.763333   0.758531     0.763333  0.760485\n",
       "original_SVM       0.773333   0.767408     0.773333  0.747414\n",
       "adasyn_XGB         0.743333   0.731778     0.743333  0.734941\n",
       "smote_XGB          0.743333   0.730740     0.743333  0.733743\n",
       "adasyn_LR          0.716667   0.761662     0.716667  0.727394\n",
       "adasyn_SVM         0.740000   0.724709     0.740000  0.727027\n",
       "smote_SVM          0.740000   0.724709     0.740000  0.727027\n",
       "smote_LR           0.706667   0.747783     0.706667  0.717361\n",
       "original_GiniTREE  0.683333   0.694836     0.683333  0.688194\n",
       "original_KNN       0.690000   0.660624     0.690000  0.666495\n",
       "adasyn_GiniTREE    0.656667   0.673480     0.656667  0.663514\n",
       "smote_GiniTREE     0.643333   0.675200     0.643333  0.654342\n",
       "smote_KNN          0.630000   0.692556     0.630000  0.645151\n",
       "adasyn_KNN         0.623333   0.689054     0.623333  0.638884"
      ]
     },
     "execution_count": 51,
     "metadata": {},
     "output_type": "execute_result"
    }
   ],
   "source": [
    "binary_metricsPCA.sort_values(by='F1 Score', ascending=False)"
   ]
  },
  {
   "cell_type": "markdown",
   "metadata": {
    "colab_type": "text",
    "id": "USLTB0NTNEfs"
   },
   "source": [
    "## Features Selection"
   ]
  },
  {
   "cell_type": "code",
   "execution_count": 52,
   "metadata": {
    "colab": {},
    "colab_type": "code",
    "id": "h7_nV-_ZSc9_"
   },
   "outputs": [],
   "source": [
    "kBestList = [30,40,50]\n",
    "\n",
    "FSsteps = {\n",
    "    'SVM' : [('kbest', kbest), ('scaler', StandardScaler()), ('SVM', svm.SVC(kernel = \"rbf\", random_state = SEED))],\n",
    "    'KNN' : [('kbest', kbest), ('scaler', StandardScaler()), ('KNN', KNeighborsClassifier())],\n",
    "    'LR' : [('kbest', kbest), ('scaler', StandardScaler()), ('LR', LogisticRegression(max_iter = 10000, random_state = SEED, solver = 'lbfgs'))],\n",
    "    'GiniTREE' : [('kbest', kbest), ('scaler', StandardScaler()), ('GiniTREE', DecisionTreeClassifier(criterion = 'gini', random_state = SEED))],\n",
    "    'XGB' : [('kbest', kbest), ('scaler', StandardScaler()), ('XGB', xgb.XGBClassifier(objective='binary:logistic', eval_metric='logloss', random_state = SEED))]\n",
    "\n",
    "}\n",
    "\n",
    "FSparams = {\n",
    "    'SVM' : {'SVM__C' : np.logspace(0, 4, 5), 'kbest__k': kBestList },\n",
    "    'KNN' : {'KNN__n_neighbors' : [5, 7, 9, 11], 'kbest__k': kBestList},\n",
    "    'LR' : {'LR__solver' : ['newton-cg', 'lbfgs', 'liblinear'], 'kbest__k': kBestList},\n",
    "    'GiniTREE' : {'GiniTREE__max_depth': np.arange(5, 20), 'kbest__k': kBestList },\n",
    "    'XGB' : {'XGB__max_depth': np.arange(3, 7), 'XGB__n_estimators': 10**np.array([1,2,3]), 'kbest__k': kBestList }\n",
    "}"
   ]
  },
  {
   "cell_type": "code",
   "execution_count": 53,
   "metadata": {
    "colab": {},
    "colab_type": "code",
    "id": "wgQcfFG2fQYi"
   },
   "outputs": [],
   "source": [
    "algs = ['SVM', 'KNN', 'LR', 'GiniTREE', 'XGB']"
   ]
  },
  {
   "cell_type": "code",
   "execution_count": 54,
   "metadata": {
    "colab": {
     "base_uri": "https://localhost:8080/",
     "height": 230
    },
    "colab_type": "code",
    "id": "LWmlMzU0fkE_",
    "outputId": "1e6be192-b8af-47da-be41-43c04ae32bc7"
   },
   "outputs": [
    {
     "name": "stdout",
     "output_type": "stream",
     "text": [
      "For method SVM best parameters are:  {'SVM__C': 10.0, 'kbest__k': 50}\n",
      "Accuracy with  SVM  =  0.76\n",
      "Weighted precision =  {'precision': 0.7502033006457784, 'recall': 0.76, 'f1-score': 0.7526963526516, 'support': 300}\n",
      "For method KNN best parameters are:  {'KNN__n_neighbors': 5, 'kbest__k': 40}\n",
      "Accuracy with  KNN  =  0.7766666666666666\n",
      "Weighted precision =  {'precision': 0.7659716029906029, 'recall': 0.7766666666666666, 'f1-score': 0.7624330742341332, 'support': 300}\n",
      "For method LR best parameters are:  {'LR__solver': 'liblinear', 'kbest__k': 50}\n",
      "Accuracy with  LR  =  0.7733333333333333\n",
      "Weighted precision =  {'precision': 0.7638157894736842, 'recall': 0.7733333333333333, 'f1-score': 0.765398274987316, 'support': 300}\n",
      "For method GiniTREE best parameters are:  {'GiniTREE__max_depth': 13, 'kbest__k': 30}\n",
      "Accuracy with  GiniTREE  =  0.6866666666666666\n",
      "Weighted precision =  {'precision': 0.6991681521093286, 'recall': 0.6866666666666666, 'f1-score': 0.6918504901960785, 'support': 300}\n",
      "For method XGB best parameters are:  {'XGB__max_depth': 6, 'XGB__n_estimators': 100, 'kbest__k': 30}\n",
      "Accuracy with  XGB  =  0.7366666666666667\n",
      "Weighted precision =  {'precision': 0.7311698406529343, 'recall': 0.7366666666666667, 'f1-score': 0.7334975836255093, 'support': 300}\n"
     ]
    }
   ],
   "source": [
    "for el in algs:\n",
    "  steps = FSsteps[el]\n",
    "  parameters = FSparams[el]\n",
    "  pipeline = Pipeline(steps)\n",
    "  grid = GridSearchCV(pipeline, param_grid=parameters, cv=5, scoring = 'f1')\n",
    "\n",
    "  grid.fit(Xfs_train, yfs_train)\n",
    "  print('For method', el, 'best parameters are: ', grid.best_params_)\n",
    "\n",
    "  Yfs_pred = grid.predict(Xfs_test)\n",
    "  cr = classification_report(yfs_test, Yfs_pred, output_dict=True)\n",
    "  binary_metricsFS.loc['original' + '_' + el] = [cr['accuracy'], cr['weighted avg']['precision'], cr['weighted avg']['recall'], cr['weighted avg']['f1-score']]\n",
    "  print('Accuracy with ', el, ' = ',cr['accuracy'])\n",
    "  print('Weighted precision = ', cr['weighted avg'])\n",
    "   "
   ]
  },
  {
   "cell_type": "code",
   "execution_count": 55,
   "metadata": {
    "colab": {
     "base_uri": "https://localhost:8080/",
     "height": 230
    },
    "colab_type": "code",
    "id": "4MzSWfnKyKUN",
    "outputId": "4fada5ef-1d45-414d-c761-4891645a3f09"
   },
   "outputs": [
    {
     "name": "stdout",
     "output_type": "stream",
     "text": [
      "For method SVM best parameters are:  {'SVM__C': 10.0, 'kbest__k': 30}\n",
      "Accuracy with  SVM  =  0.7233333333333334\n",
      "Weighted precision =  {'precision': 0.7260246220975534, 'recall': 0.7233333333333334, 'f1-score': 0.7246058890592444, 'support': 300}\n",
      "For method KNN best parameters are:  {'KNN__n_neighbors': 11, 'kbest__k': 40}\n",
      "Accuracy with  KNN  =  0.7533333333333333\n",
      "Weighted precision =  {'precision': 0.7701388888888888, 'recall': 0.7533333333333333, 'f1-score': 0.7590230664857531, 'support': 300}\n",
      "For method LR best parameters are:  {'LR__solver': 'newton-cg', 'kbest__k': 30}\n",
      "Accuracy with  LR  =  0.7633333333333333\n",
      "Weighted precision =  {'precision': 0.7551744219905655, 'recall': 0.7633333333333333, 'f1-score': 0.7576744893584656, 'support': 300}\n",
      "For method GiniTREE best parameters are:  {'GiniTREE__max_depth': 6, 'kbest__k': 30}\n",
      "Accuracy with  GiniTREE  =  0.66\n",
      "Weighted precision =  {'precision': 0.7548047780353004, 'recall': 0.66, 'f1-score': 0.6737719941348973, 'support': 300}\n",
      "For method XGB best parameters are:  {'XGB__max_depth': 5, 'XGB__n_estimators': 10, 'kbest__k': 40}\n",
      "Accuracy with  XGB  =  0.7233333333333334\n",
      "Weighted precision =  {'precision': 0.7401239649411651, 'recall': 0.7233333333333334, 'f1-score': 0.7294353264223905, 'support': 300}\n"
     ]
    }
   ],
   "source": [
    "for el in algs:\n",
    "  steps = FSsteps[el]\n",
    "  parameters = FSparams[el]\n",
    "  pipeline = Pipeline(steps)\n",
    "  grid = GridSearchCV(pipeline, param_grid=parameters, cv=5, scoring = 'f1')\n",
    "\n",
    "  grid.fit(Xfs_ADASYN, yfs_ADASYN)\n",
    "  print('For method', el, 'best parameters are: ', grid.best_params_)\n",
    "\n",
    "  Yfs_pred = grid.predict(Xfs_test)\n",
    "  cr = classification_report(yfs_test, Yfs_pred, output_dict=True)\n",
    "  binary_metricsFS.loc['adasyn' + '_' + el] = [cr['accuracy'], cr['weighted avg']['precision'], cr['weighted avg']['recall'], cr['weighted avg']['f1-score']]\n",
    "  print('Accuracy with ', el, ' = ',cr['accuracy'])\n",
    "  print('Weighted precision = ', cr['weighted avg'])"
   ]
  },
  {
   "cell_type": "code",
   "execution_count": 56,
   "metadata": {
    "colab": {
     "base_uri": "https://localhost:8080/",
     "height": 230
    },
    "colab_type": "code",
    "id": "2EA33FzTaKqU",
    "outputId": "406c3451-c965-48a3-97e2-289b5fb75fae"
   },
   "outputs": [
    {
     "name": "stdout",
     "output_type": "stream",
     "text": [
      "For method SVM best parameters are:  {'SVM__C': 10.0, 'kbest__k': 30}\n",
      "Accuracy with  SVM  =  0.6833333333333333\n",
      "Weighted precision =  {'precision': 0.694835563958406, 'recall': 0.6833333333333333, 'f1-score': 0.6881936532725713, 'support': 300}\n",
      "For method KNN best parameters are:  {'KNN__n_neighbors': 9, 'kbest__k': 30}\n",
      "Accuracy with  KNN  =  0.73\n",
      "Weighted precision =  {'precision': 0.7422946133753882, 'recall': 0.73, 'f1-score': 0.7347812249366654, 'support': 300}\n",
      "For method LR best parameters are:  {'LR__solver': 'newton-cg', 'kbest__k': 30}\n",
      "Accuracy with  LR  =  0.77\n",
      "Weighted precision =  {'precision': 0.7631765851423334, 'recall': 0.77, 'f1-score': 0.7654498277021925, 'support': 300}\n",
      "For method GiniTREE best parameters are:  {'GiniTREE__max_depth': 8, 'kbest__k': 30}\n",
      "Accuracy with  GiniTREE  =  0.7066666666666667\n",
      "Weighted precision =  {'precision': 0.7185977421271539, 'recall': 0.7066666666666667, 'f1-score': 0.7115196078431373, 'support': 300}\n",
      "For method XGB best parameters are:  {'XGB__max_depth': 4, 'XGB__n_estimators': 1000, 'kbest__k': 30}\n",
      "Accuracy with  XGB  =  0.73\n",
      "Weighted precision =  {'precision': 0.7274890723652259, 'recall': 0.73, 'f1-score': 0.7286693112152901, 'support': 300}\n"
     ]
    }
   ],
   "source": [
    "for el in algs:\n",
    "  steps = FSsteps[el]\n",
    "  parameters = FSparams[el]\n",
    "  pipeline = Pipeline(steps)\n",
    "  grid = GridSearchCV(pipeline, param_grid=parameters, cv=5, scoring = 'f1')\n",
    "\n",
    "  grid.fit(Xfs_SMOTE, yfs_SMOTE)\n",
    "  print('For method', el, 'best parameters are: ', grid.best_params_)\n",
    "\n",
    "  Yfs_pred = grid.predict(Xfs_test)\n",
    "  cr = classification_report(yfs_test, Yfs_pred, output_dict=True)\n",
    "  binary_metricsFS.loc['smote' + '_' + el] = [cr['accuracy'], cr['weighted avg']['precision'], cr['weighted avg']['recall'], cr['weighted avg']['f1-score']]\n",
    "  print('Accuracy with ', el, ' = ',cr['accuracy'])\n",
    "  print('Weighted precision = ', cr['weighted avg'])"
   ]
  },
  {
   "cell_type": "code",
   "execution_count": 57,
   "metadata": {
    "colab": {
     "base_uri": "https://localhost:8080/",
     "height": 407
    },
    "colab_type": "code",
    "id": "MDE-YMjdTct0",
    "outputId": "95127174-4658-4b60-f690-0d6c84c99a5d"
   },
   "outputs": [
    {
     "data": {
      "text/html": [
       "<div>\n",
       "<style scoped>\n",
       "    .dataframe tbody tr th:only-of-type {\n",
       "        vertical-align: middle;\n",
       "    }\n",
       "\n",
       "    .dataframe tbody tr th {\n",
       "        vertical-align: top;\n",
       "    }\n",
       "\n",
       "    .dataframe thead th {\n",
       "        text-align: right;\n",
       "    }\n",
       "</style>\n",
       "<table border=\"1\" class=\"dataframe\">\n",
       "  <thead>\n",
       "    <tr style=\"text-align: right;\">\n",
       "      <th></th>\n",
       "      <th>Accuracy</th>\n",
       "      <th>Precision</th>\n",
       "      <th>Sensitivity</th>\n",
       "      <th>F1 Score</th>\n",
       "    </tr>\n",
       "  </thead>\n",
       "  <tbody>\n",
       "    <tr>\n",
       "      <th>smote_LR</th>\n",
       "      <td>0.770000</td>\n",
       "      <td>0.763177</td>\n",
       "      <td>0.770000</td>\n",
       "      <td>0.765450</td>\n",
       "    </tr>\n",
       "    <tr>\n",
       "      <th>original_LR</th>\n",
       "      <td>0.773333</td>\n",
       "      <td>0.763816</td>\n",
       "      <td>0.773333</td>\n",
       "      <td>0.765398</td>\n",
       "    </tr>\n",
       "    <tr>\n",
       "      <th>original_KNN</th>\n",
       "      <td>0.776667</td>\n",
       "      <td>0.765972</td>\n",
       "      <td>0.776667</td>\n",
       "      <td>0.762433</td>\n",
       "    </tr>\n",
       "    <tr>\n",
       "      <th>adasyn_KNN</th>\n",
       "      <td>0.753333</td>\n",
       "      <td>0.770139</td>\n",
       "      <td>0.753333</td>\n",
       "      <td>0.759023</td>\n",
       "    </tr>\n",
       "    <tr>\n",
       "      <th>adasyn_LR</th>\n",
       "      <td>0.763333</td>\n",
       "      <td>0.755174</td>\n",
       "      <td>0.763333</td>\n",
       "      <td>0.757674</td>\n",
       "    </tr>\n",
       "    <tr>\n",
       "      <th>original_SVM</th>\n",
       "      <td>0.760000</td>\n",
       "      <td>0.750203</td>\n",
       "      <td>0.760000</td>\n",
       "      <td>0.752696</td>\n",
       "    </tr>\n",
       "    <tr>\n",
       "      <th>smote_KNN</th>\n",
       "      <td>0.730000</td>\n",
       "      <td>0.742295</td>\n",
       "      <td>0.730000</td>\n",
       "      <td>0.734781</td>\n",
       "    </tr>\n",
       "    <tr>\n",
       "      <th>original_XGB</th>\n",
       "      <td>0.736667</td>\n",
       "      <td>0.731170</td>\n",
       "      <td>0.736667</td>\n",
       "      <td>0.733498</td>\n",
       "    </tr>\n",
       "    <tr>\n",
       "      <th>adasyn_XGB</th>\n",
       "      <td>0.723333</td>\n",
       "      <td>0.740124</td>\n",
       "      <td>0.723333</td>\n",
       "      <td>0.729435</td>\n",
       "    </tr>\n",
       "    <tr>\n",
       "      <th>smote_XGB</th>\n",
       "      <td>0.730000</td>\n",
       "      <td>0.727489</td>\n",
       "      <td>0.730000</td>\n",
       "      <td>0.728669</td>\n",
       "    </tr>\n",
       "    <tr>\n",
       "      <th>adasyn_SVM</th>\n",
       "      <td>0.723333</td>\n",
       "      <td>0.726025</td>\n",
       "      <td>0.723333</td>\n",
       "      <td>0.724606</td>\n",
       "    </tr>\n",
       "    <tr>\n",
       "      <th>smote_GiniTREE</th>\n",
       "      <td>0.706667</td>\n",
       "      <td>0.718598</td>\n",
       "      <td>0.706667</td>\n",
       "      <td>0.711520</td>\n",
       "    </tr>\n",
       "    <tr>\n",
       "      <th>original_GiniTREE</th>\n",
       "      <td>0.686667</td>\n",
       "      <td>0.699168</td>\n",
       "      <td>0.686667</td>\n",
       "      <td>0.691850</td>\n",
       "    </tr>\n",
       "    <tr>\n",
       "      <th>smote_SVM</th>\n",
       "      <td>0.683333</td>\n",
       "      <td>0.694836</td>\n",
       "      <td>0.683333</td>\n",
       "      <td>0.688194</td>\n",
       "    </tr>\n",
       "    <tr>\n",
       "      <th>adasyn_GiniTREE</th>\n",
       "      <td>0.660000</td>\n",
       "      <td>0.754805</td>\n",
       "      <td>0.660000</td>\n",
       "      <td>0.673772</td>\n",
       "    </tr>\n",
       "  </tbody>\n",
       "</table>\n",
       "</div>"
      ],
      "text/plain": [
       "                   Accuracy  Precision  Sensitivity  F1 Score\n",
       "smote_LR           0.770000   0.763177     0.770000  0.765450\n",
       "original_LR        0.773333   0.763816     0.773333  0.765398\n",
       "original_KNN       0.776667   0.765972     0.776667  0.762433\n",
       "adasyn_KNN         0.753333   0.770139     0.753333  0.759023\n",
       "adasyn_LR          0.763333   0.755174     0.763333  0.757674\n",
       "original_SVM       0.760000   0.750203     0.760000  0.752696\n",
       "smote_KNN          0.730000   0.742295     0.730000  0.734781\n",
       "original_XGB       0.736667   0.731170     0.736667  0.733498\n",
       "adasyn_XGB         0.723333   0.740124     0.723333  0.729435\n",
       "smote_XGB          0.730000   0.727489     0.730000  0.728669\n",
       "adasyn_SVM         0.723333   0.726025     0.723333  0.724606\n",
       "smote_GiniTREE     0.706667   0.718598     0.706667  0.711520\n",
       "original_GiniTREE  0.686667   0.699168     0.686667  0.691850\n",
       "smote_SVM          0.683333   0.694836     0.683333  0.688194\n",
       "adasyn_GiniTREE    0.660000   0.754805     0.660000  0.673772"
      ]
     },
     "execution_count": 57,
     "metadata": {},
     "output_type": "execute_result"
    }
   ],
   "source": [
    "binary_metricsFS.sort_values(by='F1 Score', ascending=False)"
   ]
  },
  {
   "cell_type": "markdown",
   "metadata": {
    "colab_type": "text",
    "id": "qCgflih7oWOI"
   },
   "source": [
    "## Original Datased"
   ]
  },
  {
   "cell_type": "code",
   "execution_count": 58,
   "metadata": {
    "colab": {},
    "colab_type": "code",
    "id": "rYiok-SinrVt"
   },
   "outputs": [],
   "source": [
    "Y_Orig = df['risk'].copy()\n",
    "X_Orig = oneHotDF\n",
    "X_Orig = (X_Orig-X_Orig.mean())/X_Orig.std()"
   ]
  },
  {
   "cell_type": "code",
   "execution_count": 59,
   "metadata": {
    "colab": {},
    "colab_type": "code",
    "id": "RcuQ1VMOnlCt"
   },
   "outputs": [],
   "source": [
    "X_Orig, X_Orig_test, Y_Orig, Y_Orig_test = train_test_split(X_Orig, Y_Orig, test_size=0.3, stratify = Y_Orig)\n",
    "X_Orig_val, X_Orig_train, Y_Orig_val, Y_Orig_train = train_test_split(X_Orig, Y_Orig, test_size=0.57, stratify = Y_Orig)"
   ]
  },
  {
   "cell_type": "code",
   "execution_count": 60,
   "metadata": {
    "colab": {},
    "colab_type": "code",
    "id": "gQGZKQwWomjb"
   },
   "outputs": [],
   "source": [
    "ORIGparams = {\n",
    "    'SVM' : {'C' : np.logspace(0, 4, 5) },\n",
    "    'KNN' : {'n_neighbors' : [5,7,9,11] },\n",
    "    'LR' : {'solver' : ['newton-cg', 'lbfgs', 'liblinear'] },\n",
    "    'GiniTREE' : {'max_depth': np.arange(5, 20) },\n",
    "    'XGB' : {'max_depth': np.arange(3,7),'n_estimators': [100, 500, 1000, 10000]}\n",
    "}\n",
    "\n",
    "ORIGmethods = {\n",
    "    'SVM' : svm.SVC(kernel = \"rbf\", random_state = SEED),\n",
    "    'KNN' : KNeighborsClassifier(),\n",
    "    'LR' :  LogisticRegression(max_iter = 10000, random_state = SEED, solver = 'lbfgs'),\n",
    "    'GiniTREE' : DecisionTreeClassifier(criterion = 'gini', random_state = SEED),\n",
    "    'XGB' : xgb.XGBClassifier(objective='binary:logistic', eval_metric='logloss', random_state = SEED)\n",
    "}"
   ]
  },
  {
   "cell_type": "code",
   "execution_count": 61,
   "metadata": {
    "colab": {},
    "colab_type": "code",
    "id": "CXa83bspojK5"
   },
   "outputs": [],
   "source": [
    "def TrainOrigFunction(methodName, paramName):\n",
    "  method = ORIGmethods[methodName]\n",
    "  best_score = 0\n",
    "\n",
    "  for p in ORIGparams[methodName].get(paramName):\n",
    "    params = { paramName : p}\n",
    "    model = method.set_params(**params).fit(X_Orig_train, Y_Orig_train)\n",
    "    y_pred = model.predict(X_Orig_val)\n",
    "\n",
    "    cr = classification_report(Y_Orig_val, y_pred, output_dict=True)\n",
    "\n",
    "    if( cr['weighted avg']['f1-score'] > best_score):\n",
    "      best_score = cr['weighted avg']['f1-score']\n",
    "      bestP = p\n",
    "\n",
    "  params = { paramName : bestP}\n",
    "  newX_train = np.concatenate( (X_Orig_train, X_Orig_val), axis=0)\n",
    "  newY_train = np.concatenate( (Y_Orig_train, Y_Orig_val), axis=0)\n",
    "  model = method.set_params(**params).fit(newX_train, newY_train)\n",
    "  #if(methodName == 'GiniTREE'):\n",
    "  #  fig, ax = plt.subplots(figsize=(12, 12))\n",
    "  #  tree.plot_tree(model, max_depth=4, fontsize=10)\n",
    "  y_pred = model.predict(X_Orig_test)\n",
    "  cr = classification_report(Y_Orig_test, y_pred, output_dict=True)\n",
    "  binary_metricsORIG.loc['orig' + '_' + methodName] = [cr['accuracy'], cr['weighted avg']['precision'], cr['weighted avg']['recall'], cr['weighted avg']['f1-score']]\n",
    "  print('Accuracy for', paramName, ' = ', bestP, ' = ',cr['accuracy'])\n",
    "  print('Weighted precision = ', cr['weighted avg'])"
   ]
  },
  {
   "cell_type": "code",
   "execution_count": 62,
   "metadata": {
    "colab": {
     "base_uri": "https://localhost:8080/",
     "height": 158
    },
    "colab_type": "code",
    "id": "ca141yTvoF_w",
    "outputId": "20686045-f298-40b3-fb8c-86ed34c65c9b"
   },
   "outputs": [
    {
     "name": "stdout",
     "output_type": "stream",
     "text": [
      "Accuracy for C  =  10.0  =  0.7366666666666667\n",
      "Weighted precision =  {'precision': 0.7204909983633389, 'recall': 0.7366666666666667, 'f1-score': 0.7228271112722, 'support': 300}\n",
      "Accuracy for n_neighbors  =  7  =  0.7233333333333334\n",
      "Weighted precision =  {'precision': 0.6976470588235294, 'recall': 0.7233333333333334, 'f1-score': 0.6906093189964158, 'support': 300}\n",
      "Accuracy for solver  =  lbfgs  =  0.7266666666666667\n",
      "Weighted precision =  {'precision': 0.7107505070993915, 'recall': 0.7266666666666667, 'f1-score': 0.7144395440746891, 'support': 300}\n",
      "Accuracy for max_depth  =  6  =  0.71\n",
      "Weighted precision =  {'precision': 0.6850552306692657, 'recall': 0.71, 'f1-score': 0.6880118934991215, 'support': 300}\n",
      "Accuracy for n_estimators  =  100  =  0.7266666666666667\n",
      "Weighted precision =  {'precision': 0.7144463047117914, 'recall': 0.7266666666666667, 'f1-score': 0.718348623853211, 'support': 300}\n"
     ]
    }
   ],
   "source": [
    "algs = ['SVM', 'KNN', 'LR', 'GiniTREE', 'XGB']\n",
    "paramNames = ['C', 'n_neighbors', 'solver', 'max_depth', 'n_estimators']\n",
    "for name, paramName in zip(algs, paramNames):\n",
    "  TrainOrigFunction( name, paramName)"
   ]
  },
  {
   "cell_type": "code",
   "execution_count": 63,
   "metadata": {
    "colab": {
     "base_uri": "https://localhost:8080/",
     "height": 167
    },
    "colab_type": "code",
    "id": "wJA09X9vq4ZI",
    "outputId": "3666a6e6-018a-481d-f156-1ca15af96ba8"
   },
   "outputs": [
    {
     "data": {
      "text/html": [
       "<div>\n",
       "<style scoped>\n",
       "    .dataframe tbody tr th:only-of-type {\n",
       "        vertical-align: middle;\n",
       "    }\n",
       "\n",
       "    .dataframe tbody tr th {\n",
       "        vertical-align: top;\n",
       "    }\n",
       "\n",
       "    .dataframe thead th {\n",
       "        text-align: right;\n",
       "    }\n",
       "</style>\n",
       "<table border=\"1\" class=\"dataframe\">\n",
       "  <thead>\n",
       "    <tr style=\"text-align: right;\">\n",
       "      <th></th>\n",
       "      <th>Accuracy</th>\n",
       "      <th>Precision</th>\n",
       "      <th>Sensitivity</th>\n",
       "      <th>F1 Score</th>\n",
       "    </tr>\n",
       "  </thead>\n",
       "  <tbody>\n",
       "    <tr>\n",
       "      <th>orig_SVM</th>\n",
       "      <td>0.736667</td>\n",
       "      <td>0.720491</td>\n",
       "      <td>0.736667</td>\n",
       "      <td>0.722827</td>\n",
       "    </tr>\n",
       "    <tr>\n",
       "      <th>orig_XGB</th>\n",
       "      <td>0.726667</td>\n",
       "      <td>0.714446</td>\n",
       "      <td>0.726667</td>\n",
       "      <td>0.718349</td>\n",
       "    </tr>\n",
       "    <tr>\n",
       "      <th>orig_LR</th>\n",
       "      <td>0.726667</td>\n",
       "      <td>0.710751</td>\n",
       "      <td>0.726667</td>\n",
       "      <td>0.714440</td>\n",
       "    </tr>\n",
       "    <tr>\n",
       "      <th>orig_KNN</th>\n",
       "      <td>0.723333</td>\n",
       "      <td>0.697647</td>\n",
       "      <td>0.723333</td>\n",
       "      <td>0.690609</td>\n",
       "    </tr>\n",
       "    <tr>\n",
       "      <th>orig_GiniTREE</th>\n",
       "      <td>0.710000</td>\n",
       "      <td>0.685055</td>\n",
       "      <td>0.710000</td>\n",
       "      <td>0.688012</td>\n",
       "    </tr>\n",
       "  </tbody>\n",
       "</table>\n",
       "</div>"
      ],
      "text/plain": [
       "               Accuracy  Precision  Sensitivity  F1 Score\n",
       "orig_SVM       0.736667   0.720491     0.736667  0.722827\n",
       "orig_XGB       0.726667   0.714446     0.726667  0.718349\n",
       "orig_LR        0.726667   0.710751     0.726667  0.714440\n",
       "orig_KNN       0.723333   0.697647     0.723333  0.690609\n",
       "orig_GiniTREE  0.710000   0.685055     0.710000  0.688012"
      ]
     },
     "execution_count": 63,
     "metadata": {},
     "output_type": "execute_result"
    }
   ],
   "source": [
    "binary_metricsORIG.sort_values(by='F1 Score', ascending=False)"
   ]
  },
  {
   "cell_type": "markdown",
   "metadata": {
    "colab_type": "text",
    "id": "RJ9DaYebrDpP"
   },
   "source": [
    "# Results"
   ]
  },
  {
   "cell_type": "markdown",
   "metadata": {
    "colab_type": "text",
    "id": "8EsCh8f9rGbO"
   },
   "source": [
    "In this work, I've compared various algorithms and approaches to find out which was the best way to solve the classification problem.\n",
    "\n",
    "The first thing to highlights is that apply a dataset reduction (both PCA and features selection) is been a good strategy: all the scores are positively affected by that.\n",
    "\n",
    "The question that arose during the analysis of the distribution of the variable 'risk' (if in a dataset not excessively unbalanced can be a good idea do data augmentation), has not a real answer. \n",
    "\n",
    "It's clear that in this case, some models perform better with the original dataset and others with the augmented one. \n",
    "So, in a similar situation, the best solution is to try and test all the possibility and see which is the best in that specific case.\n",
    "\n",
    "About classification models, we can see that Trees has always the worst performances; the reason might be that the dataset has not a defined pattern from the features to the output."
   ]
  },
  {
   "cell_type": "code",
   "execution_count": 64,
   "metadata": {
    "colab": {
     "base_uri": "https://localhost:8080/",
     "height": 407
    },
    "colab_type": "code",
    "id": "_D548qEcq9MW",
    "outputId": "02361cea-3984-4362-ec41-a3dcdd3703d1"
   },
   "outputs": [
    {
     "data": {
      "text/html": [
       "<div>\n",
       "<style scoped>\n",
       "    .dataframe tbody tr th:only-of-type {\n",
       "        vertical-align: middle;\n",
       "    }\n",
       "\n",
       "    .dataframe tbody tr th {\n",
       "        vertical-align: top;\n",
       "    }\n",
       "\n",
       "    .dataframe thead th {\n",
       "        text-align: right;\n",
       "    }\n",
       "</style>\n",
       "<table border=\"1\" class=\"dataframe\">\n",
       "  <thead>\n",
       "    <tr style=\"text-align: right;\">\n",
       "      <th></th>\n",
       "      <th>Accuracy</th>\n",
       "      <th>Precision</th>\n",
       "      <th>Sensitivity</th>\n",
       "      <th>F1 Score</th>\n",
       "    </tr>\n",
       "  </thead>\n",
       "  <tbody>\n",
       "    <tr>\n",
       "      <th>smote_LR</th>\n",
       "      <td>0.770000</td>\n",
       "      <td>0.763177</td>\n",
       "      <td>0.770000</td>\n",
       "      <td>0.765450</td>\n",
       "    </tr>\n",
       "    <tr>\n",
       "      <th>original_LR</th>\n",
       "      <td>0.773333</td>\n",
       "      <td>0.763816</td>\n",
       "      <td>0.773333</td>\n",
       "      <td>0.765398</td>\n",
       "    </tr>\n",
       "    <tr>\n",
       "      <th>original_KNN</th>\n",
       "      <td>0.776667</td>\n",
       "      <td>0.765972</td>\n",
       "      <td>0.776667</td>\n",
       "      <td>0.762433</td>\n",
       "    </tr>\n",
       "    <tr>\n",
       "      <th>adasyn_KNN</th>\n",
       "      <td>0.753333</td>\n",
       "      <td>0.770139</td>\n",
       "      <td>0.753333</td>\n",
       "      <td>0.759023</td>\n",
       "    </tr>\n",
       "    <tr>\n",
       "      <th>adasyn_LR</th>\n",
       "      <td>0.763333</td>\n",
       "      <td>0.755174</td>\n",
       "      <td>0.763333</td>\n",
       "      <td>0.757674</td>\n",
       "    </tr>\n",
       "    <tr>\n",
       "      <th>original_SVM</th>\n",
       "      <td>0.760000</td>\n",
       "      <td>0.750203</td>\n",
       "      <td>0.760000</td>\n",
       "      <td>0.752696</td>\n",
       "    </tr>\n",
       "    <tr>\n",
       "      <th>smote_KNN</th>\n",
       "      <td>0.730000</td>\n",
       "      <td>0.742295</td>\n",
       "      <td>0.730000</td>\n",
       "      <td>0.734781</td>\n",
       "    </tr>\n",
       "    <tr>\n",
       "      <th>original_XGB</th>\n",
       "      <td>0.736667</td>\n",
       "      <td>0.731170</td>\n",
       "      <td>0.736667</td>\n",
       "      <td>0.733498</td>\n",
       "    </tr>\n",
       "    <tr>\n",
       "      <th>adasyn_XGB</th>\n",
       "      <td>0.723333</td>\n",
       "      <td>0.740124</td>\n",
       "      <td>0.723333</td>\n",
       "      <td>0.729435</td>\n",
       "    </tr>\n",
       "    <tr>\n",
       "      <th>smote_XGB</th>\n",
       "      <td>0.730000</td>\n",
       "      <td>0.727489</td>\n",
       "      <td>0.730000</td>\n",
       "      <td>0.728669</td>\n",
       "    </tr>\n",
       "    <tr>\n",
       "      <th>adasyn_SVM</th>\n",
       "      <td>0.723333</td>\n",
       "      <td>0.726025</td>\n",
       "      <td>0.723333</td>\n",
       "      <td>0.724606</td>\n",
       "    </tr>\n",
       "    <tr>\n",
       "      <th>smote_GiniTREE</th>\n",
       "      <td>0.706667</td>\n",
       "      <td>0.718598</td>\n",
       "      <td>0.706667</td>\n",
       "      <td>0.711520</td>\n",
       "    </tr>\n",
       "    <tr>\n",
       "      <th>original_GiniTREE</th>\n",
       "      <td>0.686667</td>\n",
       "      <td>0.699168</td>\n",
       "      <td>0.686667</td>\n",
       "      <td>0.691850</td>\n",
       "    </tr>\n",
       "    <tr>\n",
       "      <th>smote_SVM</th>\n",
       "      <td>0.683333</td>\n",
       "      <td>0.694836</td>\n",
       "      <td>0.683333</td>\n",
       "      <td>0.688194</td>\n",
       "    </tr>\n",
       "    <tr>\n",
       "      <th>adasyn_GiniTREE</th>\n",
       "      <td>0.660000</td>\n",
       "      <td>0.754805</td>\n",
       "      <td>0.660000</td>\n",
       "      <td>0.673772</td>\n",
       "    </tr>\n",
       "  </tbody>\n",
       "</table>\n",
       "</div>"
      ],
      "text/plain": [
       "                   Accuracy  Precision  Sensitivity  F1 Score\n",
       "smote_LR           0.770000   0.763177     0.770000  0.765450\n",
       "original_LR        0.773333   0.763816     0.773333  0.765398\n",
       "original_KNN       0.776667   0.765972     0.776667  0.762433\n",
       "adasyn_KNN         0.753333   0.770139     0.753333  0.759023\n",
       "adasyn_LR          0.763333   0.755174     0.763333  0.757674\n",
       "original_SVM       0.760000   0.750203     0.760000  0.752696\n",
       "smote_KNN          0.730000   0.742295     0.730000  0.734781\n",
       "original_XGB       0.736667   0.731170     0.736667  0.733498\n",
       "adasyn_XGB         0.723333   0.740124     0.723333  0.729435\n",
       "smote_XGB          0.730000   0.727489     0.730000  0.728669\n",
       "adasyn_SVM         0.723333   0.726025     0.723333  0.724606\n",
       "smote_GiniTREE     0.706667   0.718598     0.706667  0.711520\n",
       "original_GiniTREE  0.686667   0.699168     0.686667  0.691850\n",
       "smote_SVM          0.683333   0.694836     0.683333  0.688194\n",
       "adasyn_GiniTREE    0.660000   0.754805     0.660000  0.673772"
      ]
     },
     "execution_count": 64,
     "metadata": {},
     "output_type": "execute_result"
    }
   ],
   "source": [
    "binary_metricsFS.sort_values(by='F1 Score', ascending=False)"
   ]
  },
  {
   "cell_type": "code",
   "execution_count": 65,
   "metadata": {
    "colab": {
     "base_uri": "https://localhost:8080/",
     "height": 407
    },
    "colab_type": "code",
    "id": "l7eUJAzgrBJJ",
    "outputId": "e415e26f-1ed4-4eba-e52e-faf4311f8526"
   },
   "outputs": [
    {
     "data": {
      "text/html": [
       "<div>\n",
       "<style scoped>\n",
       "    .dataframe tbody tr th:only-of-type {\n",
       "        vertical-align: middle;\n",
       "    }\n",
       "\n",
       "    .dataframe tbody tr th {\n",
       "        vertical-align: top;\n",
       "    }\n",
       "\n",
       "    .dataframe thead th {\n",
       "        text-align: right;\n",
       "    }\n",
       "</style>\n",
       "<table border=\"1\" class=\"dataframe\">\n",
       "  <thead>\n",
       "    <tr style=\"text-align: right;\">\n",
       "      <th></th>\n",
       "      <th>Accuracy</th>\n",
       "      <th>Precision</th>\n",
       "      <th>Sensitivity</th>\n",
       "      <th>F1 Score</th>\n",
       "    </tr>\n",
       "  </thead>\n",
       "  <tbody>\n",
       "    <tr>\n",
       "      <th>original_XGB</th>\n",
       "      <td>0.783333</td>\n",
       "      <td>0.773650</td>\n",
       "      <td>0.783333</td>\n",
       "      <td>0.771946</td>\n",
       "    </tr>\n",
       "    <tr>\n",
       "      <th>original_LR</th>\n",
       "      <td>0.763333</td>\n",
       "      <td>0.758531</td>\n",
       "      <td>0.763333</td>\n",
       "      <td>0.760485</td>\n",
       "    </tr>\n",
       "    <tr>\n",
       "      <th>original_SVM</th>\n",
       "      <td>0.773333</td>\n",
       "      <td>0.767408</td>\n",
       "      <td>0.773333</td>\n",
       "      <td>0.747414</td>\n",
       "    </tr>\n",
       "    <tr>\n",
       "      <th>adasyn_XGB</th>\n",
       "      <td>0.743333</td>\n",
       "      <td>0.731778</td>\n",
       "      <td>0.743333</td>\n",
       "      <td>0.734941</td>\n",
       "    </tr>\n",
       "    <tr>\n",
       "      <th>smote_XGB</th>\n",
       "      <td>0.743333</td>\n",
       "      <td>0.730740</td>\n",
       "      <td>0.743333</td>\n",
       "      <td>0.733743</td>\n",
       "    </tr>\n",
       "    <tr>\n",
       "      <th>adasyn_LR</th>\n",
       "      <td>0.716667</td>\n",
       "      <td>0.761662</td>\n",
       "      <td>0.716667</td>\n",
       "      <td>0.727394</td>\n",
       "    </tr>\n",
       "    <tr>\n",
       "      <th>adasyn_SVM</th>\n",
       "      <td>0.740000</td>\n",
       "      <td>0.724709</td>\n",
       "      <td>0.740000</td>\n",
       "      <td>0.727027</td>\n",
       "    </tr>\n",
       "    <tr>\n",
       "      <th>smote_SVM</th>\n",
       "      <td>0.740000</td>\n",
       "      <td>0.724709</td>\n",
       "      <td>0.740000</td>\n",
       "      <td>0.727027</td>\n",
       "    </tr>\n",
       "    <tr>\n",
       "      <th>smote_LR</th>\n",
       "      <td>0.706667</td>\n",
       "      <td>0.747783</td>\n",
       "      <td>0.706667</td>\n",
       "      <td>0.717361</td>\n",
       "    </tr>\n",
       "    <tr>\n",
       "      <th>original_GiniTREE</th>\n",
       "      <td>0.683333</td>\n",
       "      <td>0.694836</td>\n",
       "      <td>0.683333</td>\n",
       "      <td>0.688194</td>\n",
       "    </tr>\n",
       "    <tr>\n",
       "      <th>original_KNN</th>\n",
       "      <td>0.690000</td>\n",
       "      <td>0.660624</td>\n",
       "      <td>0.690000</td>\n",
       "      <td>0.666495</td>\n",
       "    </tr>\n",
       "    <tr>\n",
       "      <th>adasyn_GiniTREE</th>\n",
       "      <td>0.656667</td>\n",
       "      <td>0.673480</td>\n",
       "      <td>0.656667</td>\n",
       "      <td>0.663514</td>\n",
       "    </tr>\n",
       "    <tr>\n",
       "      <th>smote_GiniTREE</th>\n",
       "      <td>0.643333</td>\n",
       "      <td>0.675200</td>\n",
       "      <td>0.643333</td>\n",
       "      <td>0.654342</td>\n",
       "    </tr>\n",
       "    <tr>\n",
       "      <th>smote_KNN</th>\n",
       "      <td>0.630000</td>\n",
       "      <td>0.692556</td>\n",
       "      <td>0.630000</td>\n",
       "      <td>0.645151</td>\n",
       "    </tr>\n",
       "    <tr>\n",
       "      <th>adasyn_KNN</th>\n",
       "      <td>0.623333</td>\n",
       "      <td>0.689054</td>\n",
       "      <td>0.623333</td>\n",
       "      <td>0.638884</td>\n",
       "    </tr>\n",
       "  </tbody>\n",
       "</table>\n",
       "</div>"
      ],
      "text/plain": [
       "                   Accuracy  Precision  Sensitivity  F1 Score\n",
       "original_XGB       0.783333   0.773650     0.783333  0.771946\n",
       "original_LR        0.763333   0.758531     0.763333  0.760485\n",
       "original_SVM       0.773333   0.767408     0.773333  0.747414\n",
       "adasyn_XGB         0.743333   0.731778     0.743333  0.734941\n",
       "smote_XGB          0.743333   0.730740     0.743333  0.733743\n",
       "adasyn_LR          0.716667   0.761662     0.716667  0.727394\n",
       "adasyn_SVM         0.740000   0.724709     0.740000  0.727027\n",
       "smote_SVM          0.740000   0.724709     0.740000  0.727027\n",
       "smote_LR           0.706667   0.747783     0.706667  0.717361\n",
       "original_GiniTREE  0.683333   0.694836     0.683333  0.688194\n",
       "original_KNN       0.690000   0.660624     0.690000  0.666495\n",
       "adasyn_GiniTREE    0.656667   0.673480     0.656667  0.663514\n",
       "smote_GiniTREE     0.643333   0.675200     0.643333  0.654342\n",
       "smote_KNN          0.630000   0.692556     0.630000  0.645151\n",
       "adasyn_KNN         0.623333   0.689054     0.623333  0.638884"
      ]
     },
     "execution_count": 65,
     "metadata": {},
     "output_type": "execute_result"
    }
   ],
   "source": [
    "binary_metricsPCA.sort_values(by='F1 Score', ascending=False)"
   ]
  }
 ],
 "metadata": {
  "colab": {
   "authorship_tag": "ABX9TyP5NUB7eT7Kt1M0I5wA9ALU",
   "collapsed_sections": [],
   "include_colab_link": true,
   "name": "MML_Tesina.ipynb",
   "provenance": [],
   "toc_visible": true
  },
  "kernelspec": {
   "display_name": "Python 3",
   "language": "python",
   "name": "python3"
  },
  "language_info": {
   "codemirror_mode": {
    "name": "ipython",
    "version": 3
   },
   "file_extension": ".py",
   "mimetype": "text/x-python",
   "name": "python",
   "nbconvert_exporter": "python",
   "pygments_lexer": "ipython3",
   "version": "3.8.5"
  }
 },
 "nbformat": 4,
 "nbformat_minor": 1
}
